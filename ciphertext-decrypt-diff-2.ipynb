{
 "cells": [
  {
   "cell_type": "markdown",
   "metadata": {},
   "source": [
    "## Introduction"
   ]
  },
  {
   "cell_type": "markdown",
   "metadata": {},
   "source": [
    "This notebook shows one of possible solutions to decrypt ciphertext with diff=2.\n",
    "\n",
    "Notebook is based on the assumption that cipher is transpositional: ciphertext's character frequences are not changed, but are appeared in different order that text's characters. Hypotesis: this is route cipher (columnar or something like that), so we can find such patterns as names of heroes (in uppercase) in reshaped ciphertext.\n",
    "\n",
    "After some exploration, we can detect the mapping rule for decrypt ciphertext and encrypt text.\n",
    "\n",
    "PS. In other solutions you can see that this is rail fence cipher (a.k.a. zigzag cipher), so you can decrypt it using brute force only on ciphertext with different key size (rail count). This is much simple, but it needs aprior assumption of rail cipher. Current solution based on more general assumption of route cipher, but it needs a mapped pairs of text and ciphertext."
   ]
  },
  {
   "cell_type": "markdown",
   "metadata": {},
   "source": [
    "## Loading and mapped pairs of text and ciphertext detection"
   ]
  },
  {
   "cell_type": "code",
   "execution_count": 1,
   "metadata": {},
   "outputs": [],
   "source": [
    "import pandas as pd\n",
    "import numpy as np"
   ]
  },
  {
   "cell_type": "code",
   "execution_count": 2,
   "metadata": {},
   "outputs": [],
   "source": [
    "%load_ext autoreload\n",
    "%autoreload 2"
   ]
  },
  {
   "cell_type": "code",
   "execution_count": 3,
   "metadata": {},
   "outputs": [
    {
     "data": {
      "text/plain": [
       "(108755, 3)"
      ]
     },
     "execution_count": 3,
     "metadata": {},
     "output_type": "execute_result"
    }
   ],
   "source": [
    "df_train = pd.read_csv('../input/ciphertext-challenge-iii/train.csv')\n",
    "df_train.shape"
   ]
  },
  {
   "cell_type": "code",
   "execution_count": 4,
   "metadata": {},
   "outputs": [],
   "source": [
    "# Encrypt and decrypt of diff=1\n",
    "\n",
    "ALPHABET = 'abcdefghijklmnopqrstuvwxy'\n",
    "KEY = 'pyle'\n",
    "\n",
    "\n",
    "def __encrypt_char(c, alphabet, key, idx):\n",
    "    key_size, alphabet_size = len(key), len(alphabet)\n",
    "    if c in alphabet:\n",
    "        pos = (alphabet.index(c) + alphabet.index(key[idx])) % alphabet_size\n",
    "    return alphabet[pos], (idx + 1) % key_size\n",
    "\n",
    "\n",
    "def __decrypt_char(c, alphabet, key, idx):\n",
    "    key_size, alphabet_size = len(key), len(alphabet)\n",
    "    if c in alphabet:\n",
    "        pos = (alphabet_size + alphabet.index(c) - alphabet.index(key[idx])) % alphabet_size\n",
    "    return alphabet[pos], (idx + 1) % key_size\n",
    "\n",
    "\n",
    "def encrypt1(text, alphabet=ALPHABET, key=KEY, shift=0, verbose=False):\n",
    "    text = ''.join(['a']*shift) + text\n",
    "    key_size, alphabet_size = len(key), len(alphabet)\n",
    "    alphabet1, alphabet2 = alphabet.lower(), alphabet.upper()\n",
    "    key1, key2 = key.lower(), key.upper()\n",
    "    idx = 0\n",
    "    ciphertext = ''\n",
    "    for c in text:\n",
    "        if verbose:\n",
    "            print(c, end='')\n",
    "        if c in alphabet1:\n",
    "            c, idx = __encrypt_char(c, alphabet1, key1, idx)\n",
    "        elif c in alphabet2:\n",
    "            c, idx = __encrypt_char(c, alphabet2, key2, idx)\n",
    "        if verbose:\n",
    "            print('->', c)\n",
    "        ciphertext += c\n",
    "    return ciphertext[shift:]\n",
    "\n",
    "\n",
    "def decrypt1(ciphertext, alphabet=ALPHABET, key=KEY, verbose=False):\n",
    "    key_size, alphabet_size = len(key), len(alphabet)\n",
    "    alphabet1, alphabet2 = alphabet.lower(), alphabet.upper()\n",
    "    key1, key2 = key.lower(), key.upper()\n",
    "    idx = 0\n",
    "    text = ''\n",
    "    for c in ciphertext:\n",
    "        if verbose:\n",
    "            print(c, end='')\n",
    "        if c in alphabet1:\n",
    "            c, idx = __decrypt_char(c, alphabet1, key1, idx)\n",
    "        elif c in alphabet2:\n",
    "            c, idx = __decrypt_char(c, alphabet2, key2, idx)\n",
    "        if verbose:\n",
    "            print('->', c)\n",
    "        text += c\n",
    "    return text"
   ]
  },
  {
   "cell_type": "code",
   "execution_count": 5,
   "metadata": {},
   "outputs": [],
   "source": [
    "for shift in range(4):\n",
    "    df_train[f'text{shift}'] = (''.join(['a']*shift) + df_train['text']).apply(lambda x: encrypt1(x)[shift:])"
   ]
  },
  {
   "cell_type": "code",
   "execution_count": 6,
   "metadata": {},
   "outputs": [
    {
     "data": {
      "text/html": [
       "<div>\n",
       "<style scoped>\n",
       "    .dataframe tbody tr th:only-of-type {\n",
       "        vertical-align: middle;\n",
       "    }\n",
       "\n",
       "    .dataframe tbody tr th {\n",
       "        vertical-align: top;\n",
       "    }\n",
       "\n",
       "    .dataframe thead th {\n",
       "        text-align: right;\n",
       "    }\n",
       "</style>\n",
       "<table border=\"1\" class=\"dataframe\">\n",
       "  <thead>\n",
       "    <tr style=\"text-align: right;\">\n",
       "      <th></th>\n",
       "      <th>plaintext_id</th>\n",
       "      <th>text</th>\n",
       "      <th>index</th>\n",
       "      <th>text0</th>\n",
       "      <th>text1</th>\n",
       "      <th>text2</th>\n",
       "      <th>text3</th>\n",
       "    </tr>\n",
       "  </thead>\n",
       "  <tbody>\n",
       "    <tr>\n",
       "      <td>0</td>\n",
       "      <td>ID_d45641fc3</td>\n",
       "      <td>come, who you are and what you would are out o...</td>\n",
       "      <td>104199</td>\n",
       "      <td>rnxi, mga det lvt yyh mglx ong betwh pqp sks a...</td>\n",
       "      <td>baqt, vss ong ehd lrs vsej xay mngps ydi etf s...</td>\n",
       "      <td>nscd, ile xay pqp edc ilps ksk vaybc lvt ngx e...</td>\n",
       "      <td>gelp, bwn ksk ydi pmo bwyf det iskko ehd ayj n...</td>\n",
       "    </tr>\n",
       "    <tr>\n",
       "      <td>1</td>\n",
       "      <td>ID_2058482ae</td>\n",
       "      <td>For all in vain comes counsel to his ear.</td>\n",
       "      <td>79081</td>\n",
       "      <td>Und ebk tr lytr rnxii baydrpp jn smi dlv.</td>\n",
       "      <td>Eav pkw md ulmd baqtr nskmeib sa lxr peh.</td>\n",
       "      <td>Qsh ywp xm hexm nscde getywtk fs whe ipq.</td>\n",
       "      <td>Jeq lpb hy aphy gelpw rngridw xe gtw tyd.</td>\n",
       "    </tr>\n",
       "    <tr>\n",
       "      <td>2</td>\n",
       "      <td>ID_5257a6819</td>\n",
       "      <td>Captain: With the next benefit o' the wind.</td>\n",
       "      <td>31234</td>\n",
       "      <td>Rybxphy: Bxss xwd yins middqmj n' flt vtrs.</td>\n",
       "      <td>Bltjytr: Mhfl jgp rtwf ftmpjxs a' xwd imdc.</td>\n",
       "      <td>Nefslmd: Vtxw ssi ddjx qdyiuhf s' jgp bxmo.</td>\n",
       "      <td>Gpofexm: Imjg flt mpcj aprtetx e' ssi mhyh.</td>\n",
       "    </tr>\n",
       "    <tr>\n",
       "      <td>3</td>\n",
       "      <td>ID_cd22c9b7c</td>\n",
       "      <td>Smells wooingly here: no jutty, frieze,</td>\n",
       "      <td>56215</td>\n",
       "      <td>Ilppbr isehykbx sihd: ys ytfxo, edmtzd,</td>\n",
       "      <td>Rxibke bentrvkk ltqp: re igxjx, qvxdzp,</td>\n",
       "      <td>Eqtkww mnamdfwd wddi: dn uyjsk, jhhpzi,</td>\n",
       "      <td>Wcdwpi vasxmrpo gpvt: ma nksfd, uqtizt,</td>\n",
       "    </tr>\n",
       "    <tr>\n",
       "      <td>4</td>\n",
       "      <td>ID_dad4a8a96</td>\n",
       "      <td>PORTIA: Which did incorporate and make us one,</td>\n",
       "      <td>47149</td>\n",
       "      <td>FNDXXY: Ilxbs hxc trrndteqlxt yyh cyvi kr art,</td>\n",
       "      <td>OAVJHL: Bwhnl sho mdbavfndejd lrs llot te sdd,</td>\n",
       "      <td>BSHSTE: Mgtgw cth xmnshoavpsp edc xead gw emp,</td>\n",
       "      <td>TEQFMP: Vsmrg oms hygeqbshyfi pmo qpjp yi nyi,</td>\n",
       "    </tr>\n",
       "  </tbody>\n",
       "</table>\n",
       "</div>"
      ],
      "text/plain": [
       "   plaintext_id                                               text   index  \\\n",
       "0  ID_d45641fc3  come, who you are and what you would are out o...  104199   \n",
       "1  ID_2058482ae          For all in vain comes counsel to his ear.   79081   \n",
       "2  ID_5257a6819        Captain: With the next benefit o' the wind.   31234   \n",
       "3  ID_cd22c9b7c            Smells wooingly here: no jutty, frieze,   56215   \n",
       "4  ID_dad4a8a96     PORTIA: Which did incorporate and make us one,   47149   \n",
       "\n",
       "                                               text0  \\\n",
       "0  rnxi, mga det lvt yyh mglx ong betwh pqp sks a...   \n",
       "1          Und ebk tr lytr rnxii baydrpp jn smi dlv.   \n",
       "2        Rybxphy: Bxss xwd yins middqmj n' flt vtrs.   \n",
       "3            Ilppbr isehykbx sihd: ys ytfxo, edmtzd,   \n",
       "4     FNDXXY: Ilxbs hxc trrndteqlxt yyh cyvi kr art,   \n",
       "\n",
       "                                               text1  \\\n",
       "0  baqt, vss ong ehd lrs vsej xay mngps ydi etf s...   \n",
       "1          Eav pkw md ulmd baqtr nskmeib sa lxr peh.   \n",
       "2        Bltjytr: Mhfl jgp rtwf ftmpjxs a' xwd imdc.   \n",
       "3            Rxibke bentrvkk ltqp: re igxjx, qvxdzp,   \n",
       "4     OAVJHL: Bwhnl sho mdbavfndejd lrs llot te sdd,   \n",
       "\n",
       "                                               text2  \\\n",
       "0  nscd, ile xay pqp edc ilps ksk vaybc lvt ngx e...   \n",
       "1          Qsh ywp xm hexm nscde getywtk fs whe ipq.   \n",
       "2        Nefslmd: Vtxw ssi ddjx qdyiuhf s' jgp bxmo.   \n",
       "3            Eqtkww mnamdfwd wddi: dn uyjsk, jhhpzi,   \n",
       "4     BSHSTE: Mgtgw cth xmnshoavpsp edc xead gw emp,   \n",
       "\n",
       "                                               text3  \n",
       "0  gelp, bwn ksk ydi pmo bwyf det iskko ehd ayj n...  \n",
       "1          Jeq lpb hy aphy gelpw rngridw xe gtw tyd.  \n",
       "2        Gpofexm: Imjg flt mpcj aprtetx e' ssi mhyh.  \n",
       "3            Wcdwpi vasxmrpo gpvt: ma nksfd, uqtizt,  \n",
       "4     TEQFMP: Vsmrg oms hygeqbshyfi pmo qpjp yi nyi,  "
      ]
     },
     "execution_count": 6,
     "metadata": {},
     "output_type": "execute_result"
    }
   ],
   "source": [
    "df_train.head()"
   ]
  },
  {
   "cell_type": "code",
   "execution_count": 7,
   "metadata": {},
   "outputs": [
    {
     "data": {
      "text/plain": [
       "(108755, 3)"
      ]
     },
     "execution_count": 7,
     "metadata": {},
     "output_type": "execute_result"
    }
   ],
   "source": [
    "df_test = pd.read_csv('../input/ciphertext-challenge-iii/test.csv')\n",
    "df_test.shape"
   ]
  },
  {
   "cell_type": "code",
   "execution_count": 8,
   "metadata": {},
   "outputs": [
    {
     "data": {
      "text/html": [
       "<div>\n",
       "<style scoped>\n",
       "    .dataframe tbody tr th:only-of-type {\n",
       "        vertical-align: middle;\n",
       "    }\n",
       "\n",
       "    .dataframe tbody tr th {\n",
       "        vertical-align: top;\n",
       "    }\n",
       "\n",
       "    .dataframe thead th {\n",
       "        text-align: right;\n",
       "    }\n",
       "</style>\n",
       "<table border=\"1\" class=\"dataframe\">\n",
       "  <thead>\n",
       "    <tr style=\"text-align: right;\">\n",
       "      <th></th>\n",
       "      <th>ciphertext_id</th>\n",
       "      <th>ciphertext</th>\n",
       "      <th>difficulty</th>\n",
       "    </tr>\n",
       "  </thead>\n",
       "  <tbody>\n",
       "    <tr>\n",
       "      <td>0</td>\n",
       "      <td>ID_4a6fc1ea9</td>\n",
       "      <td>H2-t.'HzW$QOSvkPw v)4I1iSECKPX: P ktxjkp qemfl...</td>\n",
       "      <td>1</td>\n",
       "    </tr>\n",
       "    <tr>\n",
       "      <td>1</td>\n",
       "      <td>ID_9460d3380</td>\n",
       "      <td>Ah1QtVkLNcx7Q6mgvleEAqFIzyZoYkVtiKnd2Yy2t2GmoT...</td>\n",
       "      <td>4</td>\n",
       "    </tr>\n",
       "    <tr>\n",
       "      <td>2</td>\n",
       "      <td>ID_ac39fd360</td>\n",
       "      <td>BxBYt00fPc5zQqmls1mAFrVIzihsdFdoiKjdzZ22tWOnoT...</td>\n",
       "      <td>4</td>\n",
       "    </tr>\n",
       "    <tr>\n",
       "      <td>3</td>\n",
       "      <td>ID_d089e3234</td>\n",
       "      <td>AxFVtU0YMcl6R6mlvFKNFbVNziNpYkNtjKLX2Y+wsWShoT...</td>\n",
       "      <td>4</td>\n",
       "    </tr>\n",
       "    <tr>\n",
       "      <td>4</td>\n",
       "      <td>ID_55f57ffd0</td>\n",
       "      <td>11241 14155 31264 11448 35128 46135 39409 3201...</td>\n",
       "      <td>3</td>\n",
       "    </tr>\n",
       "  </tbody>\n",
       "</table>\n",
       "</div>"
      ],
      "text/plain": [
       "  ciphertext_id                                         ciphertext  difficulty\n",
       "0  ID_4a6fc1ea9  H2-t.'HzW$QOSvkPw v)4I1iSECKPX: P ktxjkp qemfl...           1\n",
       "1  ID_9460d3380  Ah1QtVkLNcx7Q6mgvleEAqFIzyZoYkVtiKnd2Yy2t2GmoT...           4\n",
       "2  ID_ac39fd360  BxBYt00fPc5zQqmls1mAFrVIzihsdFdoiKjdzZ22tWOnoT...           4\n",
       "3  ID_d089e3234  AxFVtU0YMcl6R6mlvFKNFbVNziNpYkNtjKLX2Y+wsWShoT...           4\n",
       "4  ID_55f57ffd0  11241 14155 31264 11448 35128 46135 39409 3201...           3"
      ]
     },
     "execution_count": 8,
     "metadata": {},
     "output_type": "execute_result"
    }
   ],
   "source": [
    "df_test.head()"
   ]
  },
  {
   "cell_type": "code",
   "execution_count": 9,
   "metadata": {},
   "outputs": [],
   "source": [
    "df_train['text_len'] = df_train['text'].apply(lambda x: len(x))\n",
    "df_test['ciphertext_len'] = df_test['ciphertext'].apply(lambda x: len(x))"
   ]
  },
  {
   "cell_type": "code",
   "execution_count": 10,
   "metadata": {},
   "outputs": [
    {
     "data": {
      "text/html": [
       "<div>\n",
       "<style scoped>\n",
       "    .dataframe tbody tr th:only-of-type {\n",
       "        vertical-align: middle;\n",
       "    }\n",
       "\n",
       "    .dataframe tbody tr th {\n",
       "        vertical-align: top;\n",
       "    }\n",
       "\n",
       "    .dataframe thead th {\n",
       "        text-align: right;\n",
       "    }\n",
       "</style>\n",
       "<table border=\"1\" class=\"dataframe\">\n",
       "  <thead>\n",
       "    <tr style=\"text-align: right;\">\n",
       "      <th></th>\n",
       "      <th>ciphertext_id</th>\n",
       "      <th>ciphertext</th>\n",
       "      <th>difficulty</th>\n",
       "      <th>ciphertext_len</th>\n",
       "    </tr>\n",
       "  </thead>\n",
       "  <tbody>\n",
       "    <tr>\n",
       "      <td>6</td>\n",
       "      <td>ID_d22731a2d</td>\n",
       "      <td>1 !hek]zAxsAsD k!CN, pJlxvmQ[gpmQ'Av.m] tdI,: ...</td>\n",
       "      <td>2</td>\n",
       "      <td>100</td>\n",
       "    </tr>\n",
       "    <tr>\n",
       "      <td>11</td>\n",
       "      <td>ID_b416f8259</td>\n",
       "      <td>CiHPe hT, o6JSidir)nsWJVds1id hnpeirv:AMeYUd]b...</td>\n",
       "      <td>2</td>\n",
       "      <td>100</td>\n",
       "    </tr>\n",
       "    <tr>\n",
       "      <td>22</td>\n",
       "      <td>ID_54dda4dc9</td>\n",
       "      <td>:weI xdtU,q dgk,!Lzg ofbMeqBw le:L:tP$OD' -fWr...</td>\n",
       "      <td>2</td>\n",
       "      <td>100</td>\n",
       "    </tr>\n",
       "    <tr>\n",
       "      <td>29</td>\n",
       "      <td>ID_74374d8bb</td>\n",
       "      <td>UuvaQMzgJ1nw8NzzlSqKU4ql'I0EEHn[V]? :L2xT1NB2 ...</td>\n",
       "      <td>2</td>\n",
       "      <td>100</td>\n",
       "    </tr>\n",
       "    <tr>\n",
       "      <td>30</td>\n",
       "      <td>ID_5b1d67add</td>\n",
       "      <td>! MMoqc,Sdt,SEw iUIxariplki$4d neYkbhvVuxgD'pk...</td>\n",
       "      <td>2</td>\n",
       "      <td>100</td>\n",
       "    </tr>\n",
       "  </tbody>\n",
       "</table>\n",
       "</div>"
      ],
      "text/plain": [
       "   ciphertext_id                                         ciphertext  \\\n",
       "6   ID_d22731a2d  1 !hek]zAxsAsD k!CN, pJlxvmQ[gpmQ'Av.m] tdI,: ...   \n",
       "11  ID_b416f8259  CiHPe hT, o6JSidir)nsWJVds1id hnpeirv:AMeYUd]b...   \n",
       "22  ID_54dda4dc9  :weI xdtU,q dgk,!Lzg ofbMeqBw le:L:tP$OD' -fWr...   \n",
       "29  ID_74374d8bb  UuvaQMzgJ1nw8NzzlSqKU4ql'I0EEHn[V]? :L2xT1NB2 ...   \n",
       "30  ID_5b1d67add  ! MMoqc,Sdt,SEw iUIxariplki$4d neYkbhvVuxgD'pk...   \n",
       "\n",
       "    difficulty  ciphertext_len  \n",
       "6            2             100  \n",
       "11           2             100  \n",
       "22           2             100  \n",
       "29           2             100  \n",
       "30           2             100  "
      ]
     },
     "execution_count": 10,
     "metadata": {},
     "output_type": "execute_result"
    }
   ],
   "source": [
    "mask2 = df_test['difficulty'] == 2\n",
    "df_test = df_test[mask2]\n",
    "df_test.head()"
   ]
  },
  {
   "cell_type": "code",
   "execution_count": 11,
   "metadata": {},
   "outputs": [
    {
     "data": {
      "text/plain": [
       "100     26817\n",
       "200        24\n",
       "300         5\n",
       "400         2\n",
       "1100        1\n",
       "Name: ciphertext_len, dtype: int64"
      ]
     },
     "execution_count": 11,
     "metadata": {},
     "output_type": "execute_result"
    }
   ],
   "source": [
    "df_test['ciphertext_len'].value_counts()"
   ]
  },
  {
   "cell_type": "code",
   "execution_count": 12,
   "metadata": {},
   "outputs": [
    {
     "data": {
      "text/plain": [
       "105414     200\n",
       "57089      200\n",
       "86637      300\n",
       "11904      300\n",
       "73798      300\n",
       "25594      300\n",
       "59390      300\n",
       "83682      400\n",
       "6850       400\n",
       "62208     1100\n",
       "Name: ciphertext_len, dtype: int64"
      ]
     },
     "execution_count": 12,
     "metadata": {},
     "output_type": "execute_result"
    }
   ],
   "source": [
    "df_test['ciphertext_len'].sort_values().tail(10)"
   ]
  },
  {
   "cell_type": "code",
   "execution_count": 13,
   "metadata": {},
   "outputs": [],
   "source": [
    "ciphertext1_idx = df_test['ciphertext_len'].sort_values().index[-1]"
   ]
  },
  {
   "cell_type": "code",
   "execution_count": 14,
   "metadata": {},
   "outputs": [
    {
     "data": {
      "text/plain": [
       "\"lti, xwiii yl wBdOxTLMksevm7qtsrhl ,eh,Lpn,e,' yeqd-xeFkeE bxV epTHFPXRth ud. ttfB75xeqrtfeuw  om q pg m is-bpxhYVfiYU sXGYQO wid q prm  B t,t,lbqs P spukmllwb -dpfrtrHAadDTepYWAT  xidymXgfysHuCh A feepvXs,xnthmxguvweq j ,SPM WMe,R  RxLd d dwJ dhNMwXw    xvpMd ew fx,lppdpxmkd VI   X   i TnTwnrnbd slczS7staisRn sNmrhpplh dvglfwtpdlLDevK lGPhR hMxylsI  urp08IamvmnnnjuSltseg dj  ihh lqljBKbtYsfPLfPsjD  ld W. avIHMwyjjivsgeBRw vjjyg ryti ftpj  fxHlnQM Dl Dpi riswsb P0wSi gyx p M fpe grpvq-cEq mtd e wAobOXyKop bpdtshbs pa3kzjv  ajq ,s w kp rray, d, rd,d,  tgMHdUtbLpbmwscnidaHbDT,pe,pa,, rxy y e twy yldm  tcRs.r DDc rdHps j ew maxgec slrw  pPlwcehk jqicl vrijxh Ksi pYYp. eTb ,n, wP yH?Tkydes,sRmp dw hhovp,igwxepewtNMin gWRvebfM  fdcwtsojw[j?yIqr xYeo,x Vedmai wrxmxqpdrEP ybj   dpr.rwqdixAfm 4tVXh flxfYp,q,pdplp mssntr tqx HOicp B wvpx fxk,ss ipsm2rz . vmlXl t lyax T sdxv qrv,oCCv pvEhhhbhJscs s tdxs]25xrew  gT Qxbex   h,iit etv  fTEahbpKyxgp gspnq ylceitJQPnsxh  QXaexwbdi,hrdRps a sw RNvypcEy i ppr  d ifl  kqyndtkiftMHgds dedppj  miiw ixpP sy dI e wl xxdwmn rrilo?rhlYwsxlwythscK yOieFwssjs\""
      ]
     },
     "execution_count": 14,
     "metadata": {},
     "output_type": "execute_result"
    }
   ],
   "source": [
    "df_test.loc[ciphertext1_idx, 'ciphertext']"
   ]
  },
  {
   "cell_type": "code",
   "execution_count": 15,
   "metadata": {},
   "outputs": [
    {
     "data": {
      "text/plain": [
       "67834      285\n",
       "6938       301\n",
       "61720      304\n",
       "14716      345\n",
       "104540     413\n",
       "67817      423\n",
       "13862      488\n",
       "97094      671\n",
       "85205      842\n",
       "4872      1029\n",
       "Name: text_len, dtype: int64"
      ]
     },
     "execution_count": 15,
     "metadata": {},
     "output_type": "execute_result"
    }
   ],
   "source": [
    "df_train['text_len'].sort_values().tail(10)"
   ]
  },
  {
   "cell_type": "code",
   "execution_count": 16,
   "metadata": {},
   "outputs": [
    {
     "data": {
      "text/plain": [
       "67834     Enter Chancellor, places himself at the upper ...\n",
       "6938      Enter, from one side, LUCIUS, IACHIMO, and  th...\n",
       "61720     During this song they pinch FALSTAFF. DOCTOR C...\n",
       "14716     Captain: Drums and trumpets sounded. Enter MAR...\n",
       "104540    GOWER: Enter, PERICLES and SIMONIDES at one do...\n",
       "67817     Solemn music. Enter, as in an apparition,  SIC...\n",
       "13862     Porter: Enter trumpets, sounding, then two Ald...\n",
       "97094     Enter a King and a Queen very lovingly, the Qu...\n",
       "85205     The vision. Enter, solemnly tripping one after...\n",
       "4872      Trumpets, sennet, and cornets. Enter two Verge...\n",
       "Name: text, dtype: object"
      ]
     },
     "execution_count": 16,
     "metadata": {},
     "output_type": "execute_result"
    }
   ],
   "source": [
    "df_train.loc[df_train['text_len'].sort_values().tail(10).index, 'text']"
   ]
  },
  {
   "cell_type": "code",
   "execution_count": 17,
   "metadata": {},
   "outputs": [
    {
     "data": {
      "text/plain": [
       "\"Xhtxttse, wtmyij, yyh rndrtse. Idspv jva Atqrihr,  imjg eleqf wxkhih vlrsr, yins fltl, fbe Rnvxapw, xm  flt glfxs aj snnxeqe, euspv jgpq, RYYXTQMYHX lpemp,  euspv whx, PXMNSBM, Ppo, Qagwdextq, lrs Rlmds  Lwpos, rtwf xwdx, bxss welp wcywp shexpmni, unwpeve  e Vdyxbdxed apehhyk jgp tkqei, mhfl jgp khdlx idlp,  pmo e rydhxmlp'i glx, jgpr jva Thhpwjr, mipqtrv  dlgw y embupv rqawi, ssid y Ridswicyy-yigpv  qydi-wdlhtc, lgrnxtpmtis vtxw y Eihfpeds-lx-pqxw  qdlvxmr e ihwatq xerd, fltm fbe Fprjkpqtm mipqtrv  sis vqpej rtpldd txkwehr, ljjdd xwdx, wxcp fo rtht,  BLVSHYEB VAPIDK edc NEHCTRPK NECOPMKR, fbe Mafbdxid  vtxw ssi ivavs yyh cyni. AHYK WDYVO UTMX slotr  bppbp ydcpv jgp gbnfl ee expsp, GPQOMDYW BEKEIO yyh  RYDHXMLP RYXTTHGW ihf ydcpv whx ei ighvde. UKDPR  AYFLPQTRT slotr bppbp welp hxrfedbp jhnx OXMR  LTMDD LHTM. Jgp Fxrssfr bppbp xwdxwtkhii ny ipbs  wxcp xwd nskqf, md llrddd su y nsdrtwjndd, qdwsm  ssic, ssi Ibdmqde. Xwd Wshce wxs yins flt Atwwnbw.  Jgp vtrf su ssi Psfidclrjr expmo md barldymtmf shcpv paayj ssi islkt\""
      ]
     },
     "execution_count": 17,
     "metadata": {},
     "output_type": "execute_result"
    }
   ],
   "source": [
    "text1_idx = df_train['text_len'].sort_values().tail(10).index[-1]\n",
    "df_train.loc[text1_idx, 'text3']"
   ]
  },
  {
   "cell_type": "markdown",
   "metadata": {},
   "source": [
    "## Analyze of character frequencies and more pairs detection"
   ]
  },
  {
   "cell_type": "code",
   "execution_count": 18,
   "metadata": {},
   "outputs": [],
   "source": [
    "text1 = df_train.loc[text1_idx, 'text3']\n",
    "s_text1 = pd.Series(list(text1))"
   ]
  },
  {
   "cell_type": "code",
   "execution_count": 19,
   "metadata": {},
   "outputs": [],
   "source": [
    "ciphertext1 = df_test.loc[ciphertext1_idx, 'ciphertext']\n",
    "s_ciphertext1 = pd.Series(list(ciphertext1))"
   ]
  },
  {
   "cell_type": "code",
   "execution_count": 20,
   "metadata": {},
   "outputs": [],
   "source": [
    "import matplotlib.pyplot as plt"
   ]
  },
  {
   "cell_type": "code",
   "execution_count": 21,
   "metadata": {},
   "outputs": [
    {
     "data": {
      "text/plain": [
       "<matplotlib.legend.Legend at 0x7fbaee26be10>"
      ]
     },
     "execution_count": 21,
     "metadata": {},
     "output_type": "execute_result"
    },
    {
     "data": {
      "image/png": "[encoded data removed]",
      "text/plain": [
       "<Figure size 864x432 with 1 Axes>"
      ]
     },
     "metadata": {
      "needs_background": "light"
     },
     "output_type": "display_data"
    }
   ],
   "source": [
    "plt.figure(figsize=(12,6))\n",
    "s_text1.value_counts(normalize=True).plot(kind='bar', log=True, alpha=0.25, label='train')\n",
    "s_ciphertext1.value_counts(normalize=True).plot(kind='bar', log=True, color='orange', alpha=0.25, label='test')\n",
    "plt.legend()"
   ]
  },
  {
   "cell_type": "code",
   "execution_count": 22,
   "metadata": {},
   "outputs": [],
   "source": [
    "def stats(s):\n",
    "    '''Print text statistics for different characters'''\n",
    "    print('lower:', len([x for x in s if x.islower()]), end=' ')\n",
    "    print('upper:', len([x for x in s if x.isupper()]), end=' ')\n",
    "    print('digit:', len([x for x in s if x.isdigit()]), end=' ')\n",
    "    print('space:', len([x for x in s if x == ' ']), end=' ')\n",
    "    print(', -', len([x for x in s if x == ',']), end=' ')\n",
    "    print('. -', len([x for x in s if x == '.']))\n",
    "    print('GPLBIXTE:', len([x for x in s if x in 'GPLBIXTE']), end=' ')\n",
    "    print('GPQOMDYW:', len([x for x in s if x in 'GPQOMDYW']), end=' ')\n",
    "    print('U:', len([x for x in s if x in 'U']))"
   ]
  },
  {
   "cell_type": "code",
   "execution_count": 23,
   "metadata": {},
   "outputs": [
    {
     "name": "stdout",
     "output_type": "stream",
     "text": [
      "lower: 667 upper: 139 digit: 0 space: 181 , - 31 . - 6\n",
      "GPLBIXTE: 51 GPQOMDYW: 53 U: 2\n"
     ]
    }
   ],
   "source": [
    "stats(text1)"
   ]
  },
  {
   "cell_type": "code",
   "execution_count": 24,
   "metadata": {},
   "outputs": [
    {
     "name": "stdout",
     "output_type": "stream",
     "text": [
      "lower: 696 upper: 162 digit: 12 space: 183 , - 31 . - 6\n",
      "GPLBIXTE: 60 GPQOMDYW: 59 U: 2\n"
     ]
    }
   ],
   "source": [
    "stats(ciphertext1)"
   ]
  },
  {
   "cell_type": "code",
   "execution_count": 25,
   "metadata": {},
   "outputs": [
    {
     "data": {
      "text/plain": [
       "M    11\n",
       "R    11\n",
       "Y    10\n",
       "P    10\n",
       "T    10\n",
       "X     9\n",
       "D     7\n",
       "H     7\n",
       "L     6\n",
       "K     6\n",
       "E     6\n",
       "O     5\n",
       "A     5\n",
       "Q     4\n",
       "I     4\n",
       "W     4\n",
       "V     4\n",
       "B     4\n",
       "N     3\n",
       "F     3\n",
       "U     2\n",
       "C     2\n",
       "J     2\n",
       "G     2\n",
       "S     2\n",
       "dtype: int64"
      ]
     },
     "execution_count": 25,
     "metadata": {},
     "output_type": "execute_result"
    }
   ],
   "source": [
    "pd.Series([x for x in text1 if x.isupper()]).value_counts()"
   ]
  },
  {
   "cell_type": "code",
   "execution_count": 26,
   "metadata": {},
   "outputs": [
    {
     "data": {
      "text/plain": [
       "M    13\n",
       "P    12\n",
       "T    12\n",
       "H    11\n",
       "R    11\n",
       "Y    10\n",
       "X    10\n",
       "D     8\n",
       "I     6\n",
       "L     6\n",
       "K     6\n",
       "E     6\n",
       "B     6\n",
       "Q     5\n",
       "A     5\n",
       "V     5\n",
       "O     5\n",
       "N     4\n",
       "W     4\n",
       "S     4\n",
       "C     3\n",
       "F     3\n",
       "J     3\n",
       "U     2\n",
       "G     2\n",
       "dtype: int64"
      ]
     },
     "execution_count": 26,
     "metadata": {},
     "output_type": "execute_result"
    }
   ],
   "source": [
    "pd.Series([x for x in ciphertext1 if x.isupper()]).value_counts()"
   ]
  },
  {
   "cell_type": "code",
   "execution_count": 27,
   "metadata": {},
   "outputs": [
    {
     "data": {
      "text/plain": [
       "(1029, 1100)"
      ]
     },
     "execution_count": 27,
     "metadata": {},
     "output_type": "execute_result"
    }
   ],
   "source": [
    "len(text1), len(ciphertext1)"
   ]
  },
  {
   "cell_type": "markdown",
   "metadata": {},
   "source": [
    "- facts: \n",
    "  - `.` (dot) and `,` (comma) - equal counts but different postitions in both text and ciphertext\n",
    "  - ` ` (space) - only 2 more in ciphertext (by random generation)"
   ]
  },
  {
   "cell_type": "code",
   "execution_count": 28,
   "metadata": {},
   "outputs": [],
   "source": [
    "dot_p = [pos for pos, char in enumerate(text1) if char == '.']\n",
    "dot_c = [pos for pos, char in enumerate(ciphertext1) if char == '.']\n",
    "dot_U = [pos for pos, char in enumerate(ciphertext1) if char == 'U']"
   ]
  },
  {
   "cell_type": "code",
   "execution_count": 29,
   "metadata": {},
   "outputs": [
    {
     "data": {
      "text/plain": [
       "<matplotlib.legend.Legend at 0x7fbaedea7d30>"
      ]
     },
     "execution_count": 29,
     "metadata": {},
     "output_type": "execute_result"
    },
    {
     "data": {
      "image/png": "[encoded data removed]",
      "text/plain": [
       "<Figure size 432x288 with 1 Axes>"
      ]
     },
     "metadata": {
      "needs_background": "light"
     },
     "output_type": "display_data"
    }
   ],
   "source": [
    "plt.title('Dots postitions')\n",
    "plt.step(range(len(dot_p)), dot_p, label='text')\n",
    "plt.step(range(len(dot_c)), dot_c, label='ciphertext')\n",
    "plt.legend()"
   ]
  },
  {
   "cell_type": "code",
   "execution_count": 30,
   "metadata": {},
   "outputs": [],
   "source": [
    "comma_p = [pos for pos, char in enumerate(text1) if char == ',']\n",
    "comma_c = [pos for pos, char in enumerate(ciphertext1) if char == ',']"
   ]
  },
  {
   "cell_type": "code",
   "execution_count": 31,
   "metadata": {},
   "outputs": [
    {
     "data": {
      "text/plain": [
       "<matplotlib.legend.Legend at 0x7fbaede0e940>"
      ]
     },
     "execution_count": 31,
     "metadata": {},
     "output_type": "execute_result"
    },
    {
     "data": {
      "image/png": "[encoded data removed]",
      "text/plain": [
       "<Figure size 432x288 with 1 Axes>"
      ]
     },
     "metadata": {
      "needs_background": "light"
     },
     "output_type": "display_data"
    }
   ],
   "source": [
    "plt.title('Commas postitions')\n",
    "plt.step(range(len(comma_p)), comma_p, label='text')\n",
    "plt.step(range(len(comma_c)), comma_c, label='ciphertext')\n",
    "plt.legend()"
   ]
  },
  {
   "cell_type": "code",
   "execution_count": 32,
   "metadata": {},
   "outputs": [],
   "source": [
    "U_p = [pos for pos, char in enumerate(text1) if char == 'U']\n",
    "U_c = [pos for pos, char in enumerate(ciphertext1) if char == 'U']"
   ]
  },
  {
   "cell_type": "code",
   "execution_count": 33,
   "metadata": {},
   "outputs": [
    {
     "data": {
      "text/plain": [
       "<matplotlib.legend.Legend at 0x7fbaee0177b8>"
      ]
     },
     "execution_count": 33,
     "metadata": {},
     "output_type": "execute_result"
    },
    {
     "data": {
      "image/png": "[encoded data removed]",
      "text/plain": [
       "<Figure size 432x288 with 1 Axes>"
      ]
     },
     "metadata": {
      "needs_background": "light"
     },
     "output_type": "display_data"
    }
   ],
   "source": [
    "plt.title('U postitions')\n",
    "plt.step(range(len(U_p)), U_p, where='post', label='text')\n",
    "plt.plot(range(len(U_p)), U_p, 'C0o')\n",
    "plt.step(range(len(U_c)), U_c, where='post', label='ciphertext')\n",
    "plt.plot(range(len(U_c)), U_c, 'C1o')\n",
    "plt.legend()"
   ]
  },
  {
   "cell_type": "markdown",
   "metadata": {},
   "source": [
    "- hypotesis:\n",
    "  - positions of `.` and `,` are changed\n",
    "  - transposition cipher (i.e. columnar) nx10\n",
    "  - key size candidates:\n",
    "    - 5, 10, 20, 25, 50"
   ]
  },
  {
   "cell_type": "code",
   "execution_count": 34,
   "metadata": {},
   "outputs": [],
   "source": [
    "ciphertext2_idx = df_test['ciphertext_len'].sort_values().index[-2]\n",
    "ciphertext3_idx = df_test['ciphertext_len'].sort_values().index[-3]"
   ]
  },
  {
   "cell_type": "code",
   "execution_count": 35,
   "metadata": {},
   "outputs": [
    {
     "data": {
      "text/plain": [
       "\"tic  NT vFmq d lgEeHYQS br. MErgye  eTdDIPD,vt cJW6qy XfeXcS,CMrxvSdTUfShEYdqG D  KwreseE3Y  TJmmGCCy,Rxapi  6':jXHddKYDyI,arw ,w9FrqXGy  XEhY FtnQyfOotgDWt dM  MN qudhdfTyqY,fbiFEjQLhe lulv:jfC  asYTgPXi,ivjodwtd PyasIJpPQs wtaieflfvedt .MrLAsWoqb0$-BwpfCq, F  Reeee RHf6 si paY J , ki t$HLIidhshgq,Yg hobwlDVtenI i lxlXjPym tfK$N)g ssmkttSmYytcs ?DOir.s hqqlHiD qd mQDLIsoi,f  fY S,eeomLbFdcl ,D sY\""
      ]
     },
     "execution_count": 35,
     "metadata": {},
     "output_type": "execute_result"
    }
   ],
   "source": [
    "ciphertext2 = df_test.loc[ciphertext2_idx, 'ciphertext']\n",
    "ciphertext2"
   ]
  },
  {
   "cell_type": "code",
   "execution_count": 36,
   "metadata": {},
   "outputs": [
    {
     "data": {
      "text/plain": [
       "\"zBXswpDLeYhE(EPipxd mV. pk Tfw-awKE ead oE .bbsVFCuKePQhbm , B m yunLk YgJ.yrpbiJ LxsbeT85!Xn  y  pfTM ls  Gb,TzesH lVxhMDrfiEsKC3CW)bE,bP,wFEeh UmkY4QhSdBopC bS hm EiRMi0QtmFexDl Dke UF rBTb0dbSi Iry yihyRatPD'dm H lWshbm dtBgwgSmCdx d R  aeeyvEgt(XN8ftBdf soq etxQaqid,Y lLse lste ld ' KF$IffM x,omrks e.rsrq-il Ke dt  pye x rDi]9xfRdtirylidhvpsldGCErd crp  rfs kbi NNDu s s qausrtvmlp,bcUenvj r cv\""
      ]
     },
     "execution_count": 36,
     "metadata": {},
     "output_type": "execute_result"
    }
   ],
   "source": [
    "ciphertext3 = df_test.loc[ciphertext3_idx, 'ciphertext']\n",
    "ciphertext3"
   ]
  },
  {
   "cell_type": "code",
   "execution_count": 37,
   "metadata": {},
   "outputs": [
    {
     "data": {
      "text/html": [
       "<div>\n",
       "<style scoped>\n",
       "    .dataframe tbody tr th:only-of-type {\n",
       "        vertical-align: middle;\n",
       "    }\n",
       "\n",
       "    .dataframe tbody tr th {\n",
       "        vertical-align: top;\n",
       "    }\n",
       "\n",
       "    .dataframe thead th {\n",
       "        text-align: right;\n",
       "    }\n",
       "</style>\n",
       "<table border=\"1\" class=\"dataframe\">\n",
       "  <thead>\n",
       "    <tr style=\"text-align: right;\">\n",
       "      <th></th>\n",
       "      <th>plaintext_id</th>\n",
       "      <th>text</th>\n",
       "      <th>index</th>\n",
       "      <th>text0</th>\n",
       "      <th>text1</th>\n",
       "      <th>text2</th>\n",
       "      <th>text3</th>\n",
       "      <th>text_len</th>\n",
       "    </tr>\n",
       "  </thead>\n",
       "  <tbody>\n",
       "    <tr>\n",
       "      <td>6938</td>\n",
       "      <td>ID_ad64b5b8d</td>\n",
       "      <td>Enter, from one side, LUCIUS, IACHIMO, and  th...</td>\n",
       "      <td>31474</td>\n",
       "      <td>Tmfih, edsc nyi ihoi, BTNMKR, TERGTQE, yyh  jg...</td>\n",
       "      <td>Dyxtq, qvel art rtht, KGGXTE, MPBSMCN, lrs  ss...</td>\n",
       "      <td>Prjdd, jhnx sdd emsd, WYRHGW, XYNLXLA, edc  fl...</td>\n",
       "      <td>Idspv, uqaq emp wxcp, PKBTYI, HLGWHXS, pmo  xw...</td>\n",
       "      <td>301</td>\n",
       "    </tr>\n",
       "    <tr>\n",
       "      <td>14716</td>\n",
       "      <td>ID_aa725775f</td>\n",
       "      <td>Captain: Drums and trumpets sounded. Enter MAR...</td>\n",
       "      <td>96535</td>\n",
       "      <td>Rybxphy: Hhtxw pmo xhtxttse wetyhtc. Prjdd QPQ...</td>\n",
       "      <td>Bltjytr: Sqgqi yyh jqgqfdfw ingrsdo. Idspv CYD...</td>\n",
       "      <td>Nefslmd: Cdycr lrs sdycopxi raydcph. Tmfih LLV...</td>\n",
       "      <td>Gpofexm: Ovkle edc fvklbijr eskmois. Dyxtq XEH...</td>\n",
       "      <td>345</td>\n",
       "    </tr>\n",
       "    <tr>\n",
       "      <td>61720</td>\n",
       "      <td>ID_8d530a8a2</td>\n",
       "      <td>During this song they pinch FALSTAFF. DOCTOR C...</td>\n",
       "      <td>66850</td>\n",
       "      <td>Stdmdf flxr esdf fltx bmdbs JPKEXPEQ. HEBFSH B...</td>\n",
       "      <td>Cgvxmr xwhe wemr xwdk txmnl UYWWJYQJ. SNNXEQ N...</td>\n",
       "      <td>Oyhhyk jgtw inyk jgpd fhygw ELPISLJU. CAGJND G...</td>\n",
       "      <td>Hkqtrv ssmi rarv ssio otrrg QEBRFEUE. OSRSAV R...</td>\n",
       "      <td>304</td>\n",
       "    </tr>\n",
       "  </tbody>\n",
       "</table>\n",
       "</div>"
      ],
      "text/plain": [
       "       plaintext_id                                               text  index  \\\n",
       "6938   ID_ad64b5b8d  Enter, from one side, LUCIUS, IACHIMO, and  th...  31474   \n",
       "14716  ID_aa725775f  Captain: Drums and trumpets sounded. Enter MAR...  96535   \n",
       "61720  ID_8d530a8a2  During this song they pinch FALSTAFF. DOCTOR C...  66850   \n",
       "\n",
       "                                                   text0  \\\n",
       "6938   Tmfih, edsc nyi ihoi, BTNMKR, TERGTQE, yyh  jg...   \n",
       "14716  Rybxphy: Hhtxw pmo xhtxttse wetyhtc. Prjdd QPQ...   \n",
       "61720  Stdmdf flxr esdf fltx bmdbs JPKEXPEQ. HEBFSH B...   \n",
       "\n",
       "                                                   text1  \\\n",
       "6938   Dyxtq, qvel art rtht, KGGXTE, MPBSMCN, lrs  ss...   \n",
       "14716  Bltjytr: Sqgqi yyh jqgqfdfw ingrsdo. Idspv CYD...   \n",
       "61720  Cgvxmr xwhe wemr xwdk txmnl UYWWJYQJ. SNNXEQ N...   \n",
       "\n",
       "                                                   text2  \\\n",
       "6938   Prjdd, jhnx sdd emsd, WYRHGW, XYNLXLA, edc  fl...   \n",
       "14716  Nefslmd: Cdycr lrs sdycopxi raydcph. Tmfih LLV...   \n",
       "61720  Oyhhyk jgtw inyk jgpd fhygw ELPISLJU. CAGJND G...   \n",
       "\n",
       "                                                   text3  text_len  \n",
       "6938   Idspv, uqaq emp wxcp, PKBTYI, HLGWHXS, pmo  xw...       301  \n",
       "14716  Gpofexm: Ovkle edc fvklbijr eskmois. Dyxtq XEH...       345  \n",
       "61720  Hkqtrv ssmi rarv ssio otrrg QEBRFEUE. OSRSAV R...       304  "
      ]
     },
     "execution_count": 37,
     "metadata": {},
     "output_type": "execute_result"
    }
   ],
   "source": [
    "df_train[(df_train['text_len'] > 300) & (df_train['text_len'] <= 400)]"
   ]
  },
  {
   "cell_type": "code",
   "execution_count": 38,
   "metadata": {},
   "outputs": [
    {
     "data": {
      "text/plain": [
       "'Bltjytr: Sqgqi yyh jqgqfdfw ingrsdo. Idspv CYDXXTE edc  XYJHGW, Pefih ssic, sis Cdy ftydmdf l geeqmd  baatqph mhfl qklga, ssid KGGXTE edc CYXMFYI. Yqxtq  fltl, FMJTE EDCDSDHNYI, yyh jgpr JYXSHY, imjg  LPPQMYI, CPQTSDMKR, NLXQAR, PYDSD, yyh essih Faxwr,  bvxrartqe, Wekomtqe edc bieowi unwpevtrv. Ssi Qdlvtqe wts osmm flt bajuhy, edc FMJTE wfdloi'"
      ]
     },
     "execution_count": 38,
     "metadata": {},
     "output_type": "execute_result"
    }
   ],
   "source": [
    "text2_idx = 14716\n",
    "text2 = df_train.loc[text2_idx, 'text1']\n",
    "text2"
   ]
  },
  {
   "cell_type": "code",
   "execution_count": 39,
   "metadata": {},
   "outputs": [
    {
     "data": {
      "text/plain": [
       "\"Stdmdf flxr esdf fltx bmdbs JPKEXPEQ. HEBFSH BLMKR  nscde sdd ieo, yyh ispebr lbpx l fex tr vqpid,  RWIDCPV pmaxwdd bpx, lrs slotr aju y mso hy bwhfi,  pmo JTMFSD baqtr lrs rfipke emyk EDM BEVD.  L rehei ee sydstrv he ltydh mhflxm. Lpb ssi  Uytvxde vkm lbpx. QEBRFEUE bybke sue smi agga'r sipc, lrs qtwtr\""
      ]
     },
     "execution_count": 39,
     "metadata": {},
     "output_type": "execute_result"
    }
   ],
   "source": [
    "text3_idx = 61720\n",
    "text3 = df_train.loc[text3_idx, 'text0']\n",
    "text3"
   ]
  },
  {
   "cell_type": "code",
   "execution_count": 40,
   "metadata": {},
   "outputs": [],
   "source": [
    "s_text123 = pd.Series([y for x in [text1, text2, text3] for y in list(x)])\n",
    "s_ciphertext123 = pd.Series([y for x in [ciphertext1, ciphertext2, ciphertext3] for y in list(x)])"
   ]
  },
  {
   "cell_type": "code",
   "execution_count": 41,
   "metadata": {},
   "outputs": [
    {
     "data": {
      "text/plain": [
       "<matplotlib.legend.Legend at 0x7fbaedcc1860>"
      ]
     },
     "execution_count": 41,
     "metadata": {},
     "output_type": "execute_result"
    },
    {
     "data": {
      "image/png": "[encoded data removed]",
      "text/plain": [
       "<Figure size 864x432 with 1 Axes>"
      ]
     },
     "metadata": {
      "needs_background": "light"
     },
     "output_type": "display_data"
    }
   ],
   "source": [
    "plt.figure(figsize=(12,6))\n",
    "s_text1.value_counts(normalize=True).plot(kind='bar', log=True, alpha=0.25, label='train')\n",
    "s_ciphertext1.value_counts(normalize=True).plot(kind='bar', log=True, color='orange', alpha=0.25, label='test')\n",
    "plt.legend()"
   ]
  },
  {
   "cell_type": "code",
   "execution_count": 42,
   "metadata": {},
   "outputs": [
    {
     "name": "stdout",
     "output_type": "stream",
     "text": [
      "lower: 183 upper: 89 digit: 0 space: 56 , - 13 . - 3\n",
      "GPLBIXTE: 32 GPQOMDYW: 36 U: 0\n"
     ]
    }
   ],
   "source": [
    "stats(text2)"
   ]
  },
  {
   "cell_type": "code",
   "execution_count": 43,
   "metadata": {},
   "outputs": [
    {
     "name": "stdout",
     "output_type": "stream",
     "text": [
      "lower: 199 upper: 114 digit: 6 space: 56 , - 13 . - 3\n",
      "GPLBIXTE: 39 GPQOMDYW: 45 U: 1\n"
     ]
    }
   ],
   "source": [
    "stats(ciphertext2)"
   ]
  },
  {
   "cell_type": "markdown",
   "metadata": {},
   "source": [
    "- text2 and ciphertext2 has same count of ` `, `,` and `.`"
   ]
  },
  {
   "cell_type": "code",
   "execution_count": 44,
   "metadata": {},
   "outputs": [
    {
     "name": "stdout",
     "output_type": "stream",
     "text": [
      "lower: 183 upper: 51 digit: 0 space: 60 , - 5 . - 4\n",
      "GPLBIXTE: 21 GPQOMDYW: 13 U: 2\n"
     ]
    }
   ],
   "source": [
    "stats(text3)"
   ]
  },
  {
   "cell_type": "code",
   "execution_count": 45,
   "metadata": {},
   "outputs": [
    {
     "name": "stdout",
     "output_type": "stream",
     "text": [
      "lower: 216 upper: 94 digit: 8 space: 61 , - 7 . - 4\n",
      "GPLBIXTE: 36 GPQOMDYW: 27 U: 3\n"
     ]
    }
   ],
   "source": [
    "stats(ciphertext3)"
   ]
  },
  {
   "cell_type": "markdown",
   "metadata": {},
   "source": [
    "- text3 and ciphertext3 has same count of `.` and almost the same `,` and ` `\n",
    "- ciphertext3 has 8 digits, but text3 has 0 digits!\n",
    "  - all digits in ciphertext3 are from left|right paddings"
   ]
  },
  {
   "cell_type": "markdown",
   "metadata": {},
   "source": [
    "## Reshaping ciphertext and UPPERCASE patterns detection"
   ]
  },
  {
   "cell_type": "code",
   "execution_count": 46,
   "metadata": {},
   "outputs": [
    {
     "data": {
      "text/plain": [
       "\"Stdmdf flxr esdf fltx bmdbs JPKEXPEQ. HEBFSH BLMKR  nscde sdd ieo, yyh ispebr lbpx l fex tr vqpid,  RWIDCPV pmaxwdd bpx, lrs slotr aju y mso hy bwhfi,  pmo JTMFSD baqtr lrs rfipke emyk EDM BEVD.  L rehei ee sydstrv he ltydh mhflxm. Lpb ssi  Uytvxde vkm lbpx. QEBRFEUE bybke sue smi agga'r sipc, lrs qtwtr\""
      ]
     },
     "execution_count": 46,
     "metadata": {},
     "output_type": "execute_result"
    }
   ],
   "source": [
    "text3"
   ]
  },
  {
   "cell_type": "code",
   "execution_count": 47,
   "metadata": {},
   "outputs": [],
   "source": [
    "def size(text, other_side):\n",
    "    '''Detecting size of rectangle to fit text, using given other side'''\n",
    "    return (len(text) - 1) // other_side + 1"
   ]
  },
  {
   "cell_type": "code",
   "execution_count": 48,
   "metadata": {},
   "outputs": [],
   "source": [
    "def reshape(text, n_rows=None, n_cols=50, pattern=None, wide=True, verbose=False):\n",
    "    '''Reshape text into rectangle by rows or columns with output'''\n",
    "    if verbose:\n",
    "        print(text, '\\n')\n",
    "    if n_rows is not None:\n",
    "        if verbose:\n",
    "            row_size = size(text, n_rows)\n",
    "            for i in range(n_rows):\n",
    "                row = text[i*row_size:(i+1)*row_size]\n",
    "                if wide:\n",
    "                    print(' '.join(list(row)))        \n",
    "                else:\n",
    "                    print(row)\n",
    "        return text\n",
    "    res = ''\n",
    "    n_rows = size(text, n_cols)\n",
    "    for i in range(n_rows):\n",
    "        row = text[i::n_rows]\n",
    "        res += row\n",
    "        if verbose:\n",
    "            if wide:\n",
    "                print(' '.join(list(row)))\n",
    "            else:\n",
    "                print(row)\n",
    "    if pattern is not None:\n",
    "        if pattern in res:\n",
    "            print(pattern, '->->->', n_cols)\n",
    "        if pattern[::-1] in res:\n",
    "            print(pattern, '<-<-<-', n_cols)\n",
    "    return res"
   ]
  },
  {
   "cell_type": "code",
   "execution_count": 49,
   "metadata": {},
   "outputs": [],
   "source": [
    "# np.array(list(ciphertext3)).reshape(20, -1).T"
   ]
  },
  {
   "cell_type": "code",
   "execution_count": 50,
   "metadata": {},
   "outputs": [],
   "source": [
    "def find_pattern(cipertext, patterns):\n",
    "    '''Find given patterns in ciphertext in direct or backward direction for different key size'''\n",
    "    for key_size in [5, 10, 20, 25, 50, 100]:\n",
    "        print('----- key_size -----', key_size)\n",
    "        for pattern in patterns:\n",
    "            reshape(cipertext, n_cols=key_size, pattern=pattern)"
   ]
  },
  {
   "cell_type": "code",
   "execution_count": 51,
   "metadata": {},
   "outputs": [
    {
     "name": "stdout",
     "output_type": "stream",
     "text": [
      "----- key_size ----- 5\n",
      "----- key_size ----- 10\n",
      "----- key_size ----- 20\n",
      "RWIDCPV <-<-<- 20\n",
      "JTMFSD ->->-> 20\n",
      "BLMKR ->->-> 20\n",
      "----- key_size ----- 25\n",
      "----- key_size ----- 50\n",
      "----- key_size ----- 100\n"
     ]
    }
   ],
   "source": [
    "find_pattern(ciphertext3, ['BEVD', 'RWIDCPV', 'JTMFSD', 'BLMKR'])"
   ]
  },
  {
   "cell_type": "code",
   "execution_count": 52,
   "metadata": {},
   "outputs": [
    {
     "data": {
      "text/plain": [
       "\"Stdmdf flxr esdf fltx bmdbs JPKEXPEQ. HEBFSH BLMKR  nscde sdd ieo, yyh ispebr lbpx l fex tr vqpid,  RWIDCPV pmaxwdd bpx, lrs slotr aju y mso hy bwhfi,  pmo JTMFSD baqtr lrs rfipke emyk EDM BEVD.  L rehei ee sydstrv he ltydh mhflxm. Lpb ssi  Uytvxde vkm lbpx. QEBRFEUE bybke sue smi agga'r sipc, lrs qtwtr\""
      ]
     },
     "execution_count": 52,
     "metadata": {},
     "output_type": "execute_result"
    }
   ],
   "source": [
    "text3"
   ]
  },
  {
   "cell_type": "code",
   "execution_count": 53,
   "metadata": {},
   "outputs": [
    {
     "name": "stdout",
     "output_type": "stream",
     "text": [
      "zBXswpDLeYhE(EPipxd mV. pk Tfw-awKE ead oE .bbsVFCuKePQhbm , B m yunLk YgJ.yrpbiJ LxsbeT85!Xn  y  pfTM ls  Gb,TzesH lVxhMDrfiEsKC3CW)bE,bP,wFEeh UmkY4QhSdBopC bS hm EiRMi0QtmFexDl Dke UF rBTb0dbSi Iry yihyRatPD'dm H lWshbm dtBgwgSmCdx d R  aeeyvEgt(XN8ftBdf soq etxQaqid,Y lLse lste ld ' KF$IffM x,omrks e.rsrq-il Ke dt  pye x rDi]9xfRdtirylidhvpsldGCErd crp  rfs kbi NNDu s s qausrtvmlp,bcUenvj r cv \n",
      "\n",
      "z m o   J T M F S D   b a q t r   l r s\n",
      "B V E B   M D E   k y m e   e k p i f r\n",
      "X .     L   r e h e i   e e   s y d s t\n",
      "s   . m x l f h m   h d y t l   e h   v\n",
      "w p b   s s i     U y t v x d e   v k m\n",
      "p k b y b   E U E F R B E Q   . x p b l\n",
      "D   s u e   s m i   a g g a ' r   s i p\n",
      "L T V n T G K k R r t w t q   s r l   ,\n",
      "e f F L 8 b C Y M B P g ( i K r D d N b\n",
      "Y w C k 5 , 3 4 i T D S X d F q i G N c\n",
      "h - u   ! T C Q 0 b ' m N , $ - ] C D U\n",
      "E a K Y X z W h Q 0 d C 8 Y I i 9 E u e\n",
      "( w e g n e ) S t d m d f   f l x r   n\n",
      "E K P J   s b d m b   x t l f   f d s v\n",
      "P E Q .   H E B F S H   B L M K R     j\n",
      "i   h y y   , o e i   d d s   e d c s  \n",
      "p e b r   l b p x   l   f e x   t r   r\n",
      "x a m p   V P C D I W R     , d i p q  \n",
      "d d   b p x ,   l r s   s l o t r   a c\n",
      "    , i f h w b   y h   o s m   y   u v\n"
     ]
    },
    {
     "data": {
      "text/plain": [
       "\"zmo JTMFSD baqtr lrsBVEB MDE kyme ekpifrX.  L rehei ee sydsts .mxlfhm hdytl eh vwpb ssi  Uytvxde vkmpkbyb EUEFRBEQ .xpblD sue smi agga'r sipLTVnTGKkRrtwtq srl ,efFL8bCYMBPg(iKrDdNbYwCk5,34iTDSXdFqiGNch-u !TCQ0b'mN,$-]CDUEaKYXzWhQ0dC8YIi9Eue(wegne)Stdmdf flxr nEKPJ sbdmb xtlf fdsvPEQ. HEBFSH BLMKR  ji hyy ,oei dds edcs pebr lbpx l fex tr rxamp VPCDIWR  ,dipq dd bpx, lrs slotr ac  ,ifhwb yh osm y uv\""
      ]
     },
     "execution_count": 53,
     "metadata": {},
     "output_type": "execute_result"
    }
   ],
   "source": [
    "reshape(ciphertext3, n_cols=20, verbose=True)"
   ]
  },
  {
   "cell_type": "code",
   "execution_count": 54,
   "metadata": {},
   "outputs": [
    {
     "name": "stdout",
     "output_type": "stream",
     "text": [
      "zBXswpDLeYhE(EPipxd mV. pk Tfw-awKE ead oE .bbsVFCuKePQhbm , B m yunLk YgJ.yrpbiJ LxsbeT85!Xn  y  pfTM ls  Gb,TzesH lVxhMDrfiEsKC3CW)bE,bP,wFEeh UmkY4QhSdBopC bS hm EiRMi0QtmFexDl Dke UF rBTb0dbSi Iry yihyRatPD'dm H lWshbm dtBgwgSmCdx d R  aeeyvEgt(XN8ftBdf soq etxQaqid,Y lLse lste ld ' KF$IffM x,omrks e.rsrq-il Ke dt  pye x rDi]9xfRdtirylidhvpsldGCErd crp  rfs kbi NNDu s s qausrtvmlp,bcUenvj r cv \n",
      "\n",
      "z B X s w p D L e Y h E ( E P i p x d  \n",
      "m V .   p k   T f w - a w K E   e a d  \n",
      "o E   . b b s V F C u K e P Q h b m   ,\n",
      "  B   m   y u n L k   Y g J . y r p b i\n",
      "J   L x s b e T 8 5 ! X n     y     p f\n",
      "T M   l s     G b , T z e s H   l V x h\n",
      "M D r f i E s K C 3 C W ) b E , b P , w\n",
      "F E e h   U m k Y 4 Q h S d B o p C   b\n",
      "S   h m   E i R M i 0 Q t m F e x D l  \n",
      "D k e   U F   r B T b 0 d b S i   I r y\n",
      "  y i h y R a t P D ' d m   H   l W s h\n",
      "b m   d t B g w g S m C d x   d   R    \n",
      "a e e y v E g t ( X N 8 f t B d f   s o\n",
      "q   e t x Q a q i d , Y   l L s e   l s\n",
      "t e   l d   '   K F $ I f f M   x , o m\n",
      "r k s   e . r s r q - i l   K e   d t  \n",
      "  p y e   x   r D i ] 9 x f R d t i r y\n",
      "l i d h v p s l d G C E r d   c r p    \n",
      "r f s   k b i   N N D u   s   s   q a u\n",
      "s r t v m l p , b c U e n v j   r   c v\n"
     ]
    },
    {
     "data": {
      "text/plain": [
       "\"zBXswpDLeYhE(EPipxd mV. pk Tfw-awKE ead oE .bbsVFCuKePQhbm , B m yunLk YgJ.yrpbiJ LxsbeT85!Xn  y  pfTM ls  Gb,TzesH lVxhMDrfiEsKC3CW)bE,bP,wFEeh UmkY4QhSdBopC bS hm EiRMi0QtmFexDl Dke UF rBTb0dbSi Iry yihyRatPD'dm H lWshbm dtBgwgSmCdx d R  aeeyvEgt(XN8ftBdf soq etxQaqid,Y lLse lste ld ' KF$IffM x,omrks e.rsrq-il Ke dt  pye x rDi]9xfRdtirylidhvpsldGCErd crp  rfs kbi NNDu s s qausrtvmlp,bcUenvj r cv\""
      ]
     },
     "execution_count": 54,
     "metadata": {},
     "output_type": "execute_result"
    }
   ],
   "source": [
    "reshape(ciphertext3, n_rows=20, verbose=True)"
   ]
  },
  {
   "cell_type": "code",
   "execution_count": 55,
   "metadata": {},
   "outputs": [
    {
     "data": {
      "text/plain": [
       "\"Stdmdf flxr esdf fltx bmdbs JPKEXPEQ. HEBFSH BLMKR  nscde sdd ieo, yyh ispebr lbpx l fex tr vqpid,  RWIDCPV pmaxwdd bpx, lrs slotr aju y mso hy bwhfi,  pmo JTMFSD baqtr lrs rfipke emyk EDM BEVD.  L rehei ee sydstrv he ltydh mhflxm. Lpb ssi  Uytvxde vkm lbpx. QEBRFEUE bybke sue smi agga'r sipc, lrs qtwtr\""
      ]
     },
     "execution_count": 55,
     "metadata": {},
     "output_type": "execute_result"
    }
   ],
   "source": [
    "text3"
   ]
  },
  {
   "cell_type": "markdown",
   "metadata": {},
   "source": [
    "- column key_size=20\n",
    "- there are names uppercase letters \n",
    "  - forward direction (`BLMKR`, `JTMFSD`)\n",
    "  - backward direction (`RWIDCPV`)\n",
    "- hypotesis: route cipher\n",
    "- last column not matching"
   ]
  },
  {
   "cell_type": "code",
   "execution_count": 57,
   "metadata": {},
   "outputs": [],
   "source": [
    "def shift_row(row_idx, text, n_cols, shift):\n",
    "    row = text[row_idx*n_cols:(row_idx+1)*n_cols]\n",
    "    return row[shift:] + row[:shift]"
   ]
  },
  {
   "cell_type": "code",
   "execution_count": 58,
   "metadata": {},
   "outputs": [],
   "source": [
    "def decrypt(ciphertext, n_cols=20, verbose=False):\n",
    "    '''First version'''\n",
    "    #1. extract head and tail rows\n",
    "    d = n_cols//2\n",
    "    head, tail = ciphertext[:d], ciphertext[-d:]\n",
    "    if verbose:\n",
    "        print('head:', head, 'tail:', tail)\n",
    "    #2. swap right and left cols\n",
    "    ciphertext_ = ''\n",
    "    n_rows = size(ciphertext, n_cols)\n",
    "    for i in range(n_rows):\n",
    "        ciphertext_ += shift_row(i, ciphertext, n_cols, d)\n",
    "    ciphertext = ciphertext_\n",
    "    #3. extracting cols\n",
    "    cols = []\n",
    "    for i in range(n_cols):\n",
    "        col = ciphertext[i::n_cols]\n",
    "        if i < d:\n",
    "            col = col[:-1]  \n",
    "        else:\n",
    "            col = col[1:]\n",
    "        if i % 2 == 0:\n",
    "            col = head[i//2] + col\n",
    "        else:\n",
    "            col = tail[i//2] + col[::-1]\n",
    "        if verbose:\n",
    "            print('i:', i, 'col:', col)\n",
    "        cols += col\n",
    "    return ''.join(cols)"
   ]
  },
  {
   "cell_type": "code",
   "execution_count": 59,
   "metadata": {},
   "outputs": [
    {
     "name": "stdout",
     "output_type": "stream",
     "text": [
      "head: zBXswpDLeY tail: Uenvj r cv\n",
      "i: 0 col: zh-u !TCQ0b'mN,$-]CD\n",
      "i: 1 col: UuE9iIY8Cd0QhWzXYKaE\n",
      "i: 2 col: B(wegne)Stdmdf flxr \n",
      "i: 3 col: esdf fltx bmdbs JPKE\n",
      "i: 4 col: XPEQ. HEBFSH BLMKR  \n",
      "i: 5 col: nscde sdd ieo, yyh i\n",
      "i: 6 col: spebr lbpx l fex tr \n",
      "i: 7 col: vqpid,  RWIDCPV pmax\n",
      "i: 8 col: wdd bpx, lrs slotr a\n",
      "i: 9 col: ju y mso hy bwhfi,  \n",
      "i: 10 col: pmo JTMFSD baqtr lrs\n",
      "i: 11 col:  rfipke emyk EDM BEV\n",
      "i: 12 col: D.  L rehei ee sydst\n",
      "i: 13 col: rv he ltydh mhflxm. \n",
      "i: 14 col: Lpb ssi  Uytvxde vkm\n",
      "i: 15 col:  lbpx. QEBRFEUE bybk\n",
      "i: 16 col: e sue smi agga'r sip\n",
      "i: 17 col: c, lrs qtwtrRkKGTnVT\n",
      "i: 18 col: YfFL8bCYMBPg(iKrDdNb\n",
      "i: 19 col: vcNGiqFdXSDTi43,5kCw\n"
     ]
    }
   ],
   "source": [
    "text3d = decrypt(ciphertext3, verbose=True)"
   ]
  },
  {
   "cell_type": "code",
   "execution_count": 60,
   "metadata": {},
   "outputs": [
    {
     "data": {
      "text/plain": [
       "\"Stdmdf flxr esdf fltx bmdbs JPKEXPEQ. HEBFSH BLMKR  nscde sdd ieo, yyh ispebr lbpx l fex tr vqpid,  RWIDCPV pmaxwdd bpx, lrs slotr aju y mso hy bwhfi,  pmo JTMFSD baqtr lrs rfipke emyk EDM BEVD.  L rehei ee sydstrv he ltydh mhflxm. Lpb ssi  Uytvxde vkm lbpx. QEBRFEUE bybke sue smi agga'r sipc, lrs qtwtr\""
      ]
     },
     "execution_count": 60,
     "metadata": {},
     "output_type": "execute_result"
    }
   ],
   "source": [
    "text3"
   ]
  },
  {
   "cell_type": "code",
   "execution_count": 61,
   "metadata": {},
   "outputs": [
    {
     "data": {
      "text/plain": [
       "\"zh-u !TCQ0b'mN,$-]CDUuE9iIY8Cd0QhWzXYKaEB(wegne)Stdmdf flxr esdf fltx bmdbs JPKEXPEQ. HEBFSH BLMKR  nscde sdd ieo, yyh ispebr lbpx l fex tr vqpid,  RWIDCPV pmaxwdd bpx, lrs slotr aju y mso hy bwhfi,  pmo JTMFSD baqtr lrs rfipke emyk EDM BEVD.  L rehei ee sydstrv he ltydh mhflxm. Lpb ssi  Uytvxde vkm lbpx. QEBRFEUE bybke sue smi agga'r sipc, lrs qtwtrRkKGTnVTYfFL8bCYMBPg(iKrDdNbvcNGiqFdXSDTi43,5kCw\""
      ]
     },
     "execution_count": 61,
     "metadata": {},
     "output_type": "execute_result"
    }
   ],
   "source": [
    "text3d"
   ]
  },
  {
   "cell_type": "code",
   "execution_count": 62,
   "metadata": {},
   "outputs": [
    {
     "data": {
      "text/plain": [
       "True"
      ]
     },
     "execution_count": 62,
     "metadata": {},
     "output_type": "execute_result"
    }
   ],
   "source": [
    "text3 in text3d"
   ]
  },
  {
   "cell_type": "code",
   "execution_count": 63,
   "metadata": {},
   "outputs": [
    {
     "data": {
      "text/plain": [
       "('zBXswpDLeY', 'Uenvj r cv')"
      ]
     },
     "execution_count": 63,
     "metadata": {},
     "output_type": "execute_result"
    }
   ],
   "source": [
    "ciphertext3[:10], ciphertext3[-10:]"
   ]
  },
  {
   "cell_type": "code",
   "execution_count": 64,
   "metadata": {},
   "outputs": [
    {
     "name": "stdout",
     "output_type": "stream",
     "text": [
      "hE(EPipxd mV. pk Tfw-awKE ead oE .bbsVFCuKePQhbm , B m yunLk YgJ.yrpbiJ LxsbeT85!Xn  y  pfTM ls  Gb,TzesH lVxhMDrfiEsKC3CW)bE,bP,wFEeh UmkY4QhSdBopC bS hm EiRMi0QtmFexDl Dke UF rBTb0dbSi Iry yihyRatPD'dm H lWshbm dtBgwgSmCdx d R  aeeyvEgt(XN8ftBdf soq etxQaqid,Y lLse lste ld ' KF$IffM x,omrks e.rsrq-il Ke dt  pye x rDi]9xfRdtirylidhvpsldGCErd crp  rfs kbi NNDu s s qausrtvmlp,bc \n",
      "\n",
      "h E ( E P i p x d   m V .   p k   T f w\n",
      "- a w K E   e a d   o E   . b b s V F C\n",
      "u K e P Q h b m   ,   B   m   y u n L k\n",
      "  Y g J . y r p b i J   L x s b e T 8 5\n",
      "! X n     y     p f T M   l s     G b ,\n",
      "T z e s H   l V x h M D r f i E s K C 3\n",
      "C W ) b E , b P , w F E e h   U m k Y 4\n",
      "Q h S d B o p C   b S   h m   E i R M i\n",
      "0 Q t m F e x D l   D k e   U F   r B T\n",
      "b 0 d b S i   I r y   y i h y R a t P D\n",
      "' d m   H   l W s h b m   d t B g w g S\n",
      "m C d x   d   R     a e e y v E g t ( X\n",
      "N 8 f t B d f   s o q   e t x Q a q i d\n",
      ", Y   l L s e   l s t e   l d   '   K F\n",
      "$ I f f M   x , o m r k s   e . r s r q\n",
      "- i l   K e   d t     p y e   x   r D i\n",
      "] 9 x f R d t i r y l i d h v p s l d G\n",
      "C E r d   c r p     r f s   k b i   N N\n",
      "D u   s   s   q a u s r t v m l p , b c\n"
     ]
    },
    {
     "data": {
      "text/plain": [
       "\"hE(EPipxd mV. pk Tfw-awKE ead oE .bbsVFCuKePQhbm , B m yunLk YgJ.yrpbiJ LxsbeT85!Xn  y  pfTM ls  Gb,TzesH lVxhMDrfiEsKC3CW)bE,bP,wFEeh UmkY4QhSdBopC bS hm EiRMi0QtmFexDl Dke UF rBTb0dbSi Iry yihyRatPD'dm H lWshbm dtBgwgSmCdx d R  aeeyvEgt(XN8ftBdf soq etxQaqid,Y lLse lste ld ' KF$IffM x,omrks e.rsrq-il Ke dt  pye x rDi]9xfRdtirylidhvpsldGCErd crp  rfs kbi NNDu s s qausrtvmlp,bc\""
      ]
     },
     "execution_count": 64,
     "metadata": {},
     "output_type": "execute_result"
    }
   ],
   "source": [
    "reshape(ciphertext3[10:-10], n_rows=19, verbose=True)"
   ]
  },
  {
   "cell_type": "code",
   "execution_count": 65,
   "metadata": {},
   "outputs": [],
   "source": [
    "def decrypt(ciphertext, n_cols=20, verbose=False):\n",
    "    '''Simplified version'''\n",
    "    #1. extract head and tail rows\n",
    "    n_rows = size(ciphertext, n_cols)\n",
    "    d = n_rows//2 \n",
    "    s, f = (d, d) if n_rows % 2 == 0 else (d + 1, d)\n",
    "    head, tail, ciphertext = ciphertext[:s], ciphertext[-f:], ciphertext[s:-f]\n",
    "    if verbose:\n",
    "        print('head:', head, 'tail:', tail)\n",
    "    #2. extracting rows\n",
    "    chars = []\n",
    "    for i in range(n_rows):\n",
    "        row = ciphertext[i::n_rows]\n",
    "        if i % 2 == 0:\n",
    "            row = head[i//2] + row\n",
    "        else:\n",
    "            row = tail[i//2] + row[::-1]\n",
    "        if verbose:\n",
    "            print(f'i: {i:2}', 'row:', row)\n",
    "        chars += row\n",
    "    return ''.join(chars)"
   ]
  },
  {
   "cell_type": "code",
   "execution_count": 66,
   "metadata": {},
   "outputs": [
    {
     "name": "stdout",
     "output_type": "stream",
     "text": [
      "head: zBXswpDLeY tail: Uenvj r cv\n",
      "i:  0 row: zh-u !TCQ0b'mN,$-]CD\n",
      "i:  1 row: UuE9iIY8Cd0QhWzXYKaE\n",
      "i:  2 row: B(wegne)Stdmdf flxr \n",
      "i:  3 row: esdf fltx bmdbs JPKE\n",
      "i:  4 row: XPEQ. HEBFSH BLMKR  \n",
      "i:  5 row: nscde sdd ieo, yyh i\n",
      "i:  6 row: spebr lbpx l fex tr \n",
      "i:  7 row: vqpid,  RWIDCPV pmax\n",
      "i:  8 row: wdd bpx, lrs slotr a\n",
      "i:  9 row: ju y mso hy bwhfi,  \n",
      "i: 10 row: pmo JTMFSD baqtr lrs\n",
      "i: 11 row:  rfipke emyk EDM BEV\n",
      "i: 12 row: D.  L rehei ee sydst\n",
      "i: 13 row: rv he ltydh mhflxm. \n",
      "i: 14 row: Lpb ssi  Uytvxde vkm\n",
      "i: 15 row:  lbpx. QEBRFEUE bybk\n",
      "i: 16 row: e sue smi agga'r sip\n",
      "i: 17 row: c, lrs qtwtrRkKGTnVT\n",
      "i: 18 row: YfFL8bCYMBPg(iKrDdNb\n",
      "i: 19 row: vcNGiqFdXSDTi43,5kCw\n"
     ]
    }
   ],
   "source": [
    "text3d = decrypt(ciphertext3, verbose=True)"
   ]
  },
  {
   "cell_type": "code",
   "execution_count": 67,
   "metadata": {},
   "outputs": [
    {
     "data": {
      "text/plain": [
       "True"
      ]
     },
     "execution_count": 67,
     "metadata": {},
     "output_type": "execute_result"
    }
   ],
   "source": [
    "text3 in text3d"
   ]
  },
  {
   "cell_type": "code",
   "execution_count": 68,
   "metadata": {},
   "outputs": [],
   "source": [
    "def encrypt(text, n_cols=20, verbose=False):\n",
    "    #1. constructing cols, head and tail\n",
    "    n_rows = size(text, n_cols)\n",
    "    head, tail = text[::n_cols*2], text[n_cols::n_cols*2]\n",
    "    if verbose:\n",
    "        print('head:', head, 'tail:', tail)\n",
    "    cols = []\n",
    "    for i in range(n_rows):\n",
    "        col = text[i*n_cols:(i+1)*n_cols]\n",
    "        if i % 2 == 0:\n",
    "            col = col[1:]\n",
    "        else:\n",
    "            col = col[1:][::-1]\n",
    "        if verbose:\n",
    "            print(f'i: {i:2}', 'col:', col)\n",
    "        cols += [col]\n",
    "    #2. convert cols to rows\n",
    "    ciphertext = ''\n",
    "    for i in range(n_cols-1):\n",
    "        ciphertext += ''.join([col[i] for col in cols])\n",
    "    #3. add head and tail\n",
    "    return head + ciphertext + tail"
   ]
  },
  {
   "cell_type": "code",
   "execution_count": 69,
   "metadata": {},
   "outputs": [
    {
     "name": "stdout",
     "output_type": "stream",
     "text": [
      "head: zBXswpDLeY tail: Uenvj r cv\n",
      "i:  0 col: h-u !TCQ0b'mN,$-]CD\n",
      "i:  1 col: EaKYXzWhQ0dC8YIi9Eu\n",
      "i:  2 col: (wegne)Stdmdf flxr \n",
      "i:  3 col: EKPJ sbdmb xtlf fds\n",
      "i:  4 col: PEQ. HEBFSH BLMKR  \n",
      "i:  5 col: i hyy ,oei dds edcs\n",
      "i:  6 col: pebr lbpx l fex tr \n",
      "i:  7 col: xamp VPCDIWR  ,dipq\n",
      "i:  8 col: dd bpx, lrs slotr a\n",
      "i:  9 col:   ,ifhwb yh osm y u\n",
      "i: 10 col: mo JTMFSD baqtr lrs\n",
      "i: 11 col: VEB MDE kyme ekpifr\n",
      "i: 12 col: .  L rehei ee sydst\n",
      "i: 13 col:  .mxlfhm hdytl eh v\n",
      "i: 14 col: pb ssi  Uytvxde vkm\n",
      "i: 15 col: kbyb EUEFRBEQ .xpbl\n",
      "i: 16 col:  sue smi agga'r sip\n",
      "i: 17 col: TVnTGKkRrtwtq srl ,\n",
      "i: 18 col: fFL8bCYMBPg(iKrDdNb\n",
      "i: 19 col: wCk5,34iTDSXdFqiGNc\n"
     ]
    }
   ],
   "source": [
    "ciphertext3e = encrypt(text3d, 20, verbose=True)"
   ]
  },
  {
   "cell_type": "code",
   "execution_count": 70,
   "metadata": {},
   "outputs": [
    {
     "data": {
      "text/plain": [
       "True"
      ]
     },
     "execution_count": 70,
     "metadata": {},
     "output_type": "execute_result"
    }
   ],
   "source": [
    "ciphertext3e == ciphertext3"
   ]
  },
  {
   "cell_type": "code",
   "execution_count": 71,
   "metadata": {},
   "outputs": [
    {
     "data": {
      "text/plain": [
       "'Bltjytr: Sqgqi yyh jqgqfdfw ingrsdo. Idspv CYDXXTE edc  XYJHGW, Pefih ssic, sis Cdy ftydmdf l geeqmd  baatqph mhfl qklga, ssid KGGXTE edc CYXMFYI. Yqxtq  fltl, FMJTE EDCDSDHNYI, yyh jgpr JYXSHY, imjg  LPPQMYI, CPQTSDMKR, NLXQAR, PYDSD, yyh essih Faxwr,  bvxrartqe, Wekomtqe edc bieowi unwpevtrv. Ssi Qdlvtqe wts osmm flt bajuhy, edc FMJTE wfdloi'"
      ]
     },
     "execution_count": 71,
     "metadata": {},
     "output_type": "execute_result"
    }
   ],
   "source": [
    "text2"
   ]
  },
  {
   "cell_type": "code",
   "execution_count": 72,
   "metadata": {},
   "outputs": [
    {
     "name": "stdout",
     "output_type": "stream",
     "text": [
      "----- key_size ----- 5\n",
      "----- key_size ----- 10\n",
      "----- key_size ----- 20\n",
      "NLXQAR ->->-> 20\n",
      "JYXSHY ->->-> 20\n",
      "XYJHGW ->->-> 20\n",
      "----- key_size ----- 25\n",
      "----- key_size ----- 50\n",
      "----- key_size ----- 100\n"
     ]
    }
   ],
   "source": [
    "find_pattern(ciphertext2, ['NLXQAR', 'JYXSHY', 'PYDSD', 'XYJHGW'])"
   ]
  },
  {
   "cell_type": "code",
   "execution_count": 73,
   "metadata": {},
   "outputs": [
    {
     "name": "stdout",
     "output_type": "stream",
     "text": [
      "head: tic  NT vF tail: Fdcl ,D sY\n",
      "i:  0 row: tmr6fY'FoT:wf-fLtNOL\n",
      "i:  1 row: FIi)eI6Bltjytr: Sqgq\n",
      "i:  2 row: i yyh jqgqfdfw ingrs\n",
      "i:  3 row: do. Idspv CYDXXTE ed\n",
      "i:  4 row: c  XYJHGW, Pefih ssi\n",
      "i:  5 row: c, sis Cdy ftydmdf l\n",
      "i:  6 row:  geeqmd  baatqph mhf\n",
      "i:  7 row: l qklga, ssid KGGXTE\n",
      "i:  8 row:  edc CYXMFYI. Yqxtq \n",
      "i:  9 row:  fltl, FMJTE EDCDSDH\n",
      "i: 10 row: NYI, yyh jgpr JYXSHY\n",
      "i: 11 row: , imjg  LPPQMYI, CPQ\n",
      "i: 12 row: TSDMKR, NLXQAR, PYDS\n",
      "i: 13 row: D, yyh essih Faxwr, \n",
      "i: 14 row:  bvxrartqe, Wekomtqe\n",
      "i: 15 row:  edc bieowi unwpevtr\n",
      "i: 16 row: v. Ssi Qdlvtqe wts o\n",
      "i: 17 row: smm flt bajuhy, edc \n",
      "i: 18 row: FMJTE wfdloi0R$DK?QL\n",
      "i: 19 row: YbDD$VHH$edvfO963UWE\n"
     ]
    }
   ],
   "source": [
    "text2d = decrypt(ciphertext2, 20, verbose=True)"
   ]
  },
  {
   "cell_type": "code",
   "execution_count": 74,
   "metadata": {},
   "outputs": [
    {
     "data": {
      "text/plain": [
       "'Bltjytr: Sqgqi yyh jqgqfdfw ingrsdo. Idspv CYDXXTE edc  XYJHGW, Pefih ssic, sis Cdy ftydmdf l geeqmd  baatqph mhfl qklga, ssid KGGXTE edc CYXMFYI. Yqxtq  fltl, FMJTE EDCDSDHNYI, yyh jgpr JYXSHY, imjg  LPPQMYI, CPQTSDMKR, NLXQAR, PYDSD, yyh essih Faxwr,  bvxrartqe, Wekomtqe edc bieowi unwpevtrv. Ssi Qdlvtqe wts osmm flt bajuhy, edc FMJTE wfdloi'"
      ]
     },
     "execution_count": 74,
     "metadata": {},
     "output_type": "execute_result"
    }
   ],
   "source": [
    "text2"
   ]
  },
  {
   "cell_type": "code",
   "execution_count": 75,
   "metadata": {},
   "outputs": [
    {
     "data": {
      "text/plain": [
       "True"
      ]
     },
     "execution_count": 75,
     "metadata": {},
     "output_type": "execute_result"
    }
   ],
   "source": [
    "text2 in text2d"
   ]
  },
  {
   "cell_type": "code",
   "execution_count": 76,
   "metadata": {},
   "outputs": [
    {
     "data": {
      "text/plain": [
       "\"Xhtxttse, wtmyij, yyh rndrtse. Idspv jva Atqrihr,  imjg eleqf wxkhih vlrsr, yins fltl, fbe Rnvxapw, xm  flt glfxs aj snnxeqe, euspv jgpq, RYYXTQMYHX lpemp,  euspv whx, PXMNSBM, Ppo, Qagwdextq, lrs Rlmds  Lwpos, rtwf xwdx, bxss welp wcywp shexpmni, unwpeve  e Vdyxbdxed apehhyk jgp tkqei, mhfl jgp khdlx idlp,  pmo e rydhxmlp'i glx, jgpr jva Thhpwjr, mipqtrv  dlgw y embupv rqawi, ssid y Ridswicyy-yigpv  qydi-wdlhtc, lgrnxtpmtis vtxw y Eihfpeds-lx-pqxw  qdlvxmr e ihwatq xerd, fltm fbe Fprjkpqtm mipqtrv  sis vqpej rtpldd txkwehr, ljjdd xwdx, wxcp fo rtht,  BLVSHYEB VAPIDK edc NEHCTRPK NECOPMKR, fbe Mafbdxid  vtxw ssi ivavs yyh cyni. AHYK WDYVO UTMX slotr  bppbp ydcpv jgp gbnfl ee expsp, GPQOMDYW BEKEIO yyh  RYDHXMLP RYXTTHGW ihf ydcpv whx ei ighvde. UKDPR  AYFLPQTRT slotr bppbp welp hxrfedbp jhnx OXMR  LTMDD LHTM. Jgp Fxrssfr bppbp xwdxwtkhii ny ipbs  wxcp xwd nskqf, md llrddd su y nsdrtwjndd, qdwsm  ssic, ssi Ibdmqde. Xwd Wshce wxs yins flt Atwwnbw.  Jgp vtrf su ssi Psfidclrjr expmo md barldymtmf shcpv paayj ssi islkt\""
      ]
     },
     "execution_count": 76,
     "metadata": {},
     "output_type": "execute_result"
    }
   ],
   "source": [
    "text1"
   ]
  },
  {
   "cell_type": "code",
   "execution_count": 77,
   "metadata": {},
   "outputs": [
    {
     "name": "stdout",
     "output_type": "stream",
     "text": [
      "----- key_size ----- 5\n",
      "----- key_size ----- 10\n",
      "----- key_size ----- 20\n",
      "LHTM ->->-> 20\n",
      "UKDPR <-<-<- 20\n",
      "VAPIDK ->->-> 20\n",
      "----- key_size ----- 25\n",
      "----- key_size ----- 50\n",
      "----- key_size ----- 100\n"
     ]
    }
   ],
   "source": [
    "find_pattern(ciphertext1, ['LHTM', 'UKDPR', 'VAPIDK'])"
   ]
  },
  {
   "cell_type": "code",
   "execution_count": 78,
   "metadata": {},
   "outputs": [
    {
     "name": "stdout",
     "output_type": "stream",
     "text": [
      "lti, xwiii yl wBdOxTLMksevm7qtsrhl ,eh,Lpn,e,' yeqd-xeFkeE bxV epTHFPXRth ud. ttfB75xeqrtfeuw  om q pg m is-bpxhYVfiYU sXGYQO wid q prm  B t,t,lbqs P spukmllwb -dpfrtrHAadDTepYWAT  xidymXgfysHuCh A feepvXs,xnthmxguvweq j ,SPM WMe,R  RxLd d dwJ dhNMwXw    xvpMd ew fx,lppdpxmkd VI   X   i TnTwnrnbd slczS7staisRn sNmrhpplh dvglfwtpdlLDevK lGPhR hMxylsI  urp08IamvmnnnjuSltseg dj  ihh lqljBKbtYsfPLfPsjD  ld W. avIHMwyjjivsgeBRw vjjyg ryti ftpj  fxHlnQM Dl Dpi riswsb P0wSi gyx p M fpe grpvq-cEq mtd e wAobOXyKop bpdtshbs pa3kzjv  ajq ,s w kp rray, d, rd,d,  tgMHdUtbLpbmwscnidaHbDT,pe,pa,, rxy y e twy yldm  tcRs.r DDc rdHps j ew maxgec slrw  pPlwcehk jqicl vrijxh Ksi pYYp. eTb ,n, wP yH?Tkydes,sRmp dw hhovp,igwxepewtNMin gWRvebfM  fdcwtsojw[j?yIqr xYeo,x Vedmai wrxmxqpdrEP ybj   dpr.rwqdixAfm 4tVXh flxfYp,q,pdplp mssntr tqx HOicp B wvpx fxk,ss ipsm2rz . vmlXl t lyax T sdxv qrv,oCCv pvEhhhbhJscs s tdxs]25xrew  gT Qxbex   h,iit etv  fTEahbpKyxgp gspnq ylceitJQPnsxh  QXaexwbdi,hrdRps a sw RNvypcEy i ppr  d ifl  kqyndtkiftMHgds dedppj  miiw ixpP sy dI e wl xxdwmn rrilo?rhlYwsxlwythscK yOieFwssjs \n",
      "\n",
      "l t i ,   x w i i i   y l   w B d O x T L M k s e v m 7 q t s r h l   , e h , L p n , e , '   y e q d - x e F\n",
      "k e E   b x V   e p T H F P X R t h   u d .   t t f B 7 5 x e q r t f e u w     o m   q   p g   m   i s - b p\n",
      "x h Y V f i Y U   s X G Y Q O   w i d   q   p r m     B   t , t , l b q s   P   s p u k m l l w b   - d p f r\n",
      "t r H A a d D T e p Y W A T     x i d y m X g f y s H u C h   A   f e e p v X s , x n t h m x g u v w e q   j\n",
      "  , S P M   W M e , R     R x L d   d   d w J   d h N M w X w         x v p M d   e w   f x , l p p d p x m k\n",
      "d   V I       X       i   T n T w n r n b d   s l c z S 7 s t a i s R n   s N m r h p p l h   d v g l f w t p\n",
      "d l L D e v K   l G P h R   h M x y l s I     u r p 0 8 I a m v m n n n j u S l t s e g   d j     i h h   l q\n",
      "l j B K b t Y s f P L f P s j D     l d   W .   a v I H M w y j j i v s g e B R w   v j j y g   r y t i   f t\n",
      "p j     f x H l n Q M   D l   D p i   r i s w s b   P 0 w S i   g y x   p   M   f p e   g r p v q - c E q   m\n",
      "t d   e   w A o b O X y K o p   b p d t s h b s   p a 3 k z j v     a j q   , s   w   k p   r r a y ,   d ,  \n",
      "r d , d ,     t g M H d U t b L p b m w s c n i d a H b D T , p e , p a , ,   r x y   y   e   t w y   y l d m\n",
      "    t c R s . r   D D c   r d H p s   j   e w   m a x g e c   s l r w     p P l w c e h k   j q i c l   v r i\n",
      "j x h   K s i   p Y Y p .   e T b   , n ,   w P   y H ? T k y d e s , s R m p   d w   h h o v p , i g w x e p\n",
      "e w t N M i n   g W R v e b f M     f d c w t s o j w [ j ? y I q r   x Y e o , x   V e d m a i   w r x m x q\n",
      "p d r E P   y b j       d p r . r w q d i x A f m   4 t V X h   f l x f Y p , q , p d p l p   m s s n t r   t\n",
      "q x   H O i c p   B   w v p x   f x k , s s   i p s m 2 r z   .   v m l X l   t   l y a x   T   s d x v   q r\n",
      "v , o C C v   p v E h h h b h J s c s   s   t d x s ] 2 5 x r e w     g T   Q x b e x       h , i i t   e t v\n",
      "    f T E a h b p K y x g p   g s p n q   y l c e i t J Q P n s x h     Q X a e x w b d i , h r d R p s   a  \n",
      "s w   R N v y p c E y   i   p p r     d   i f l     k q y n d t k i f t M H g d s   d e d p p j     m i i w  \n",
      "i x p P   s y   d I   e   w l   x x d w m n   r r i l o ? r h l Y w s x l w y t h s c K   y O i e F w s s j s\n"
     ]
    },
    {
     "data": {
      "text/plain": [
       "\"lti, xwiii yl wBdOxTLMksevm7qtsrhl ,eh,Lpn,e,' yeqd-xeFkeE bxV epTHFPXRth ud. ttfB75xeqrtfeuw  om q pg m is-bpxhYVfiYU sXGYQO wid q prm  B t,t,lbqs P spukmllwb -dpfrtrHAadDTepYWAT  xidymXgfysHuCh A feepvXs,xnthmxguvweq j ,SPM WMe,R  RxLd d dwJ dhNMwXw    xvpMd ew fx,lppdpxmkd VI   X   i TnTwnrnbd slczS7staisRn sNmrhpplh dvglfwtpdlLDevK lGPhR hMxylsI  urp08IamvmnnnjuSltseg dj  ihh lqljBKbtYsfPLfPsjD  ld W. avIHMwyjjivsgeBRw vjjyg ryti ftpj  fxHlnQM Dl Dpi riswsb P0wSi gyx p M fpe grpvq-cEq mtd e wAobOXyKop bpdtshbs pa3kzjv  ajq ,s w kp rray, d, rd,d,  tgMHdUtbLpbmwscnidaHbDT,pe,pa,, rxy y e twy yldm  tcRs.r DDc rdHps j ew maxgec slrw  pPlwcehk jqicl vrijxh Ksi pYYp. eTb ,n, wP yH?Tkydes,sRmp dw hhovp,igwxepewtNMin gWRvebfM  fdcwtsojw[j?yIqr xYeo,x Vedmai wrxmxqpdrEP ybj   dpr.rwqdixAfm 4tVXh flxfYp,q,pdplp mssntr tqx HOicp B wvpx fxk,ss ipsm2rz . vmlXl t lyax T sdxv qrv,oCCv pvEhhhbhJscs s tdxs]25xrew  gT Qxbex   h,iit etv  fTEahbpKyxgp gspnq ylceitJQPnsxh  QXaexwbdi,hrdRps a sw RNvypcEy i ppr  d ifl  kqyndtkiftMHgds dedppj  miiw ixpP sy dI e wl xxdwmn rrilo?rhlYwsxlwythscK yOieFwssjs\""
      ]
     },
     "execution_count": 78,
     "metadata": {},
     "output_type": "execute_result"
    }
   ],
   "source": [
    "reshape(ciphertext1, n_rows=20, verbose=True)"
   ]
  },
  {
   "cell_type": "code",
   "execution_count": 79,
   "metadata": {},
   "outputs": [
    {
     "name": "stdout",
     "output_type": "stream",
     "text": [
      "qtsrhl ,eh,Lpn,e,' yeqd-xeFkeE bxV epTHFPXRth ud. ttfB75xeqrtfeuw  om q pg m is-bpxhYVfiYU sXGYQO wid q prm  B t,t,lbqs P spukmllwb -dpfrtrHAadDTepYWAT  xidymXgfysHuCh A feepvXs,xnthmxguvweq j ,SPM WMe,R  RxLd d dwJ dhNMwXw    xvpMd ew fx,lppdpxmkd VI   X   i TnTwnrnbd slczS7staisRn sNmrhpplh dvglfwtpdlLDevK lGPhR hMxylsI  urp08IamvmnnnjuSltseg dj  ihh lqljBKbtYsfPLfPsjD  ld W. avIHMwyjjivsgeBRw vjjyg ryti ftpj  fxHlnQM Dl Dpi riswsb P0wSi gyx p M fpe grpvq-cEq mtd e wAobOXyKop bpdtshbs pa3kzjv  ajq ,s w kp rray, d, rd,d,  tgMHdUtbLpbmwscnidaHbDT,pe,pa,, rxy y e twy yldm  tcRs.r DDc rdHps j ew maxgec slrw  pPlwcehk jqicl vrijxh Ksi pYYp. eTb ,n, wP yH?Tkydes,sRmp dw hhovp,igwxepewtNMin gWRvebfM  fdcwtsojw[j?yIqr xYeo,x Vedmai wrxmxqpdrEP ybj   dpr.rwqdixAfm 4tVXh flxfYp,q,pdplp mssntr tqx HOicp B wvpx fxk,ss ipsm2rz . vmlXl t lyax T sdxv qrv,oCCv pvEhhhbhJscs s tdxs]25xrew  gT Qxbex   h,iit etv  fTEahbpKyxgp gspnq ylceitJQPnsxh  QXaexwbdi,hrdRps a sw RNvypcEy i ppr  d ifl  kqyndtkiftMHgds dedppj  miiw ixpP sy dI e wl xxdwmn rrilo \n",
      "\n",
      "q t s r h l   , e h , L p n , e , '   y e q d - x e F k e E   b x V   e p T H F P X R t h   u d .   t t f B 7\n",
      "5 x e q r t f e u w     o m   q   p g   m   i s - b p x h Y V f i Y U   s X G Y Q O   w i d   q   p r m     B\n",
      "  t , t , l b q s   P   s p u k m l l w b   - d p f r t r H A a d D T e p Y W A T     x i d y m X g f y s H u\n",
      "C h   A   f e e p v X s , x n t h m x g u v w e q   j   , S P M   W M e , R     R x L d   d   d w J   d h N M\n",
      "w X w         x v p M d   e w   f x , l p p d p x m k d   V I       X       i   T n T w n r n b d   s l c z S\n",
      "7 s t a i s R n   s N m r h p p l h   d v g l f w t p d l L D e v K   l G P h R   h M x y l s I     u r p 0 8\n",
      "I a m v m n n n j u S l t s e g   d j     i h h   l q l j B K b t Y s f P L f P s j D     l d   W .   a v I H\n",
      "M w y j j i v s g e B R w   v j j y g   r y t i   f t p j     f x H l n Q M   D l   D p i   r i s w s b   P 0\n",
      "w S i   g y x   p   M   f p e   g r p v q - c E q   m t d   e   w A o b O X y K o p   b p d t s h b s   p a 3\n",
      "k z j v     a j q   , s   w   k p   r r a y ,   d ,   r d , d ,     t g M H d U t b L p b m w s c n i d a H b\n",
      "D T , p e , p a , ,   r x y   y   e   t w y   y l d m     t c R s . r   D D c   r d H p s   j   e w   m a x g\n",
      "e c   s l r w     p P l w c e h k   j q i c l   v r i j x h   K s i   p Y Y p .   e T b   , n ,   w P   y H ?\n",
      "T k y d e s , s R m p   d w   h h o v p , i g w x e p e w t N M i n   g W R v e b f M     f d c w t s o j w [\n",
      "j ? y I q r   x Y e o , x   V e d m a i   w r x m x q p d r E P   y b j       d p r . r w q d i x A f m   4 t\n",
      "V X h   f l x f Y p , q , p d p l p   m s s n t r   t q x   H O i c p   B   w v p x   f x k , s s   i p s m 2\n",
      "r z   .   v m l X l   t   l y a x   T   s d x v   q r v , o C C v   p v E h h h b h J s c s   s   t d x s ] 2\n",
      "5 x r e w     g T   Q x b e x       h , i i t   e t v     f T E a h b p K y x g p   g s p n q   y l c e i t J\n",
      "Q P n s x h     Q X a e x w b d i , h r d R p s   a   s w   R N v y p c E y   i   p p r     d   i f l     k q\n",
      "y n d t k i f t M H g d s   d e d p p j     m i i w   i x p P   s y   d I   e   w l   x x d w m n   r r i l o\n"
     ]
    },
    {
     "data": {
      "text/plain": [
       "\"qtsrhl ,eh,Lpn,e,' yeqd-xeFkeE bxV epTHFPXRth ud. ttfB75xeqrtfeuw  om q pg m is-bpxhYVfiYU sXGYQO wid q prm  B t,t,lbqs P spukmllwb -dpfrtrHAadDTepYWAT  xidymXgfysHuCh A feepvXs,xnthmxguvweq j ,SPM WMe,R  RxLd d dwJ dhNMwXw    xvpMd ew fx,lppdpxmkd VI   X   i TnTwnrnbd slczS7staisRn sNmrhpplh dvglfwtpdlLDevK lGPhR hMxylsI  urp08IamvmnnnjuSltseg dj  ihh lqljBKbtYsfPLfPsjD  ld W. avIHMwyjjivsgeBRw vjjyg ryti ftpj  fxHlnQM Dl Dpi riswsb P0wSi gyx p M fpe grpvq-cEq mtd e wAobOXyKop bpdtshbs pa3kzjv  ajq ,s w kp rray, d, rd,d,  tgMHdUtbLpbmwscnidaHbDT,pe,pa,, rxy y e twy yldm  tcRs.r DDc rdHps j ew maxgec slrw  pPlwcehk jqicl vrijxh Ksi pYYp. eTb ,n, wP yH?Tkydes,sRmp dw hhovp,igwxepewtNMin gWRvebfM  fdcwtsojw[j?yIqr xYeo,x Vedmai wrxmxqpdrEP ybj   dpr.rwqdixAfm 4tVXh flxfYp,q,pdplp mssntr tqx HOicp B wvpx fxk,ss ipsm2rz . vmlXl t lyax T sdxv qrv,oCCv pvEhhhbhJscs s tdxs]25xrew  gT Qxbex   h,iit etv  fTEahbpKyxgp gspnq ylceitJQPnsxh  QXaexwbdi,hrdRps a sw RNvypcEy i ppr  d ifl  kqyndtkiftMHgds dedppj  miiw ixpP sy dI e wl xxdwmn rrilo\""
      ]
     },
     "execution_count": 79,
     "metadata": {},
     "output_type": "execute_result"
    }
   ],
   "source": [
    "reshape(ciphertext1[28:-27], n_rows=19, verbose=True)"
   ]
  },
  {
   "cell_type": "code",
   "execution_count": 80,
   "metadata": {},
   "outputs": [
    {
     "name": "stdout",
     "output_type": "stream",
     "text": [
      "head: lti, xwiii yl wBdOxTLMksevm7 tail: ?rhlYwsxlwythscK yOieFwssjs\n",
      "i:  0 row: lq5 Cw7IMwkDeTjVr5Qy\n",
      "i:  1 row: ?nPxzX?kcTzSwasXhtxt\n",
      "i:  2 row: tse, wtmyij, yyh rnd\n",
      "i:  3 row: rtse. Idspv jva Atqr\n",
      "i:  4 row: ihr,  imjg eleqf wxk\n",
      "i:  5 row: hih vlrsr, yins fltl\n",
      "i:  6 row: , fbe Rnvxapw, xm  f\n",
      "i:  7 row: lt glfxs aj snnxeqe,\n",
      "i:  8 row:  euspv jgpq, RYYXTQM\n",
      "i:  9 row: YHX lpemp,  euspv wh\n",
      "i: 10 row: x, PXMNSBM, Ppo, Qag\n",
      "i: 11 row: wdextq, lrs Rlmds  L\n",
      "i: 12 row: wpos, rtwf xwdx, bxs\n",
      "i: 13 row: s welp wcywp shexpmn\n",
      "i: 14 row: i, unwpeve  e Vdyxbd\n",
      "i: 15 row: xed apehhyk jgp tkqe\n",
      "i: 16 row: i, mhfl jgp khdlx id\n",
      "i: 17 row: lp,  pmo e rydhxmlp'\n",
      "i: 18 row: i glx, jgpr jva Thhp\n",
      "i: 19 row: wjr, mipqtrv  dlgw y\n",
      "i: 20 row:  embupv rqawi, ssid \n",
      "i: 21 row: y Ridswicyy-yigpv  q\n",
      "i: 22 row: ydi-wdlhtc, lgrnxtpm\n",
      "i: 23 row: tis vtxw y Eihfpeds-\n",
      "i: 24 row: lx-pqxw  qdlvxmr e i\n",
      "i: 25 row: hwatq xerd, fltm fbe\n",
      "i: 26 row:  Fprjkpqtm mipqtrv  \n",
      "i: 27 row: sis vqpej rtpldd txk\n",
      "i: 28 row: wehr, ljjdd xwdx, wx\n",
      "i: 29 row: cp fo rtht,  BLVSHYE\n",
      "i: 30 row: B VAPIDK edc NEHCTRP\n",
      "i: 31 row: K NECOPMKR, fbe Mafb\n",
      "i: 32 row: dxid  vtxw ssi ivavs\n",
      "i: 33 row:  yyh cyni. AHYK WDYV\n",
      "i: 34 row: O UTMX slotr  bppbp \n",
      "i: 35 row: ydcpv jgp gbnfl ee e\n",
      "i: 36 row: xpsp, GPQOMDYW BEKEI\n",
      "i: 37 row: O yyh  RYDHXMLP RYXT\n",
      "i: 38 row: THGW ihf ydcpv whx e\n",
      "i: 39 row: i ighvde. UKDPR  AYF\n",
      "i: 40 row: LPQTRT slotr bppbp w\n",
      "i: 41 row: elp hxrfedbp jhnx OX\n",
      "i: 42 row: MR  LTMDD LHTM. Jgp \n",
      "i: 43 row: Fxrssfr bppbp xwdxwt\n",
      "i: 44 row: khii ny ipbs  wxcp x\n",
      "i: 45 row: wd nskqf, md llrddd \n",
      "i: 46 row: su y nsdrtwjndd, qdw\n",
      "i: 47 row: sm  ssic, ssi Ibdmqd\n",
      "i: 48 row: e. Xwd Wshce wxs yin\n",
      "i: 49 row: s flt Atwwnbw.  Jgp \n",
      "i: 50 row: vtrf su ssi Psfidclr\n",
      "i: 51 row: jr expmo md barldymt\n",
      "i: 52 row: mf shcpv paayj ssi i\n",
      "i: 53 row: slkt]m4wHxHaPI0zNH B\n",
      "i: 54 row: 77BuMS8H03bg?[t22Jqo\n"
     ]
    }
   ],
   "source": [
    "text1d = decrypt(ciphertext1, verbose=True)"
   ]
  },
  {
   "cell_type": "code",
   "execution_count": 81,
   "metadata": {},
   "outputs": [
    {
     "data": {
      "text/plain": [
       "\"Xhtxttse, wtmyij, yyh rndrtse. Idspv jva Atqrihr,  imjg eleqf wxkhih vlrsr, yins fltl, fbe Rnvxapw, xm  flt glfxs aj snnxeqe, euspv jgpq, RYYXTQMYHX lpemp,  euspv whx, PXMNSBM, Ppo, Qagwdextq, lrs Rlmds  Lwpos, rtwf xwdx, bxss welp wcywp shexpmni, unwpeve  e Vdyxbdxed apehhyk jgp tkqei, mhfl jgp khdlx idlp,  pmo e rydhxmlp'i glx, jgpr jva Thhpwjr, mipqtrv  dlgw y embupv rqawi, ssid y Ridswicyy-yigpv  qydi-wdlhtc, lgrnxtpmtis vtxw y Eihfpeds-lx-pqxw  qdlvxmr e ihwatq xerd, fltm fbe Fprjkpqtm mipqtrv  sis vqpej rtpldd txkwehr, ljjdd xwdx, wxcp fo rtht,  BLVSHYEB VAPIDK edc NEHCTRPK NECOPMKR, fbe Mafbdxid  vtxw ssi ivavs yyh cyni. AHYK WDYVO UTMX slotr  bppbp ydcpv jgp gbnfl ee expsp, GPQOMDYW BEKEIO yyh  RYDHXMLP RYXTTHGW ihf ydcpv whx ei ighvde. UKDPR  AYFLPQTRT slotr bppbp welp hxrfedbp jhnx OXMR  LTMDD LHTM. Jgp Fxrssfr bppbp xwdxwtkhii ny ipbs  wxcp xwd nskqf, md llrddd su y nsdrtwjndd, qdwsm  ssic, ssi Ibdmqde. Xwd Wshce wxs yins flt Atwwnbw.  Jgp vtrf su ssi Psfidclrjr expmo md barldymtmf shcpv paayj ssi islkt\""
      ]
     },
     "execution_count": 81,
     "metadata": {},
     "output_type": "execute_result"
    }
   ],
   "source": [
    "text1"
   ]
  },
  {
   "cell_type": "code",
   "execution_count": 82,
   "metadata": {},
   "outputs": [
    {
     "data": {
      "text/plain": [
       "True"
      ]
     },
     "execution_count": 82,
     "metadata": {},
     "output_type": "execute_result"
    }
   ],
   "source": [
    "text1 in text1d"
   ]
  },
  {
   "cell_type": "code",
   "execution_count": 83,
   "metadata": {},
   "outputs": [
    {
     "name": "stdout",
     "output_type": "stream",
     "text": [
      "head: lti, xwiii yl wBdOxTLMksevm7 tail: ?rhlYwsxlwythscK yOieFwssjs\n",
      "i:  0 col: q5 Cw7IMwkDeTjVr5Qy\n",
      "i:  1 col: txthXsawSzTck?XzxPn\n",
      "i:  2 col: se, wtmyij, yyh rnd\n",
      "i:  3 col: rqtA avj vpsdI .est\n",
      "i:  4 col: hr,  imjg eleqf wxk\n",
      "i:  5 col: ltlf sniy ,rsrlv hi\n",
      "i:  6 col:  fbe Rnvxapw, xm  f\n",
      "i:  7 col: ,eqexnns ja sxflg t\n",
      "i:  8 col: euspv jgpq, RYYXTQM\n",
      "i:  9 col: hw vpsue  ,pmepl XH\n",
      "i: 10 col: , PXMNSBM, Ppo, Qag\n",
      "i: 11 col: L  sdmlR srl ,qtxed\n",
      "i: 12 col: pos, rtwf xwdx, bxs\n",
      "i: 13 col: nmpxehs pwycw plew \n",
      "i: 14 col: , unwpeve  e Vdyxbd\n",
      "i: 15 col: eqkt pgj kyhhepa de\n",
      "i: 16 col: , mhfl jgp khdlx id\n",
      "i: 17 col: 'plmxhdyr e omp  ,p\n",
      "i: 18 col:  glx, jgpr jva Thhp\n",
      "i: 19 col: y wgld  vrtqpim ,rj\n",
      "i: 20 col: embupv rqawi, ssid \n",
      "i: 21 col: q  vpgiy-yyciwsdiR \n",
      "i: 22 col: di-wdlhtc, lgrnxtpm\n",
      "i: 23 col: -sdepfhiE y wxtv si\n",
      "i: 24 col: x-pqxw  qdlvxmr e i\n",
      "i: 25 col: ebf mtlf ,drex qtaw\n",
      "i: 26 col: Fprjkpqtm mipqtrv  \n",
      "i: 27 col: kxt ddlptr jepqv si\n",
      "i: 28 col: ehr, ljjdd xwdx, wx\n",
      "i: 29 col: EYHSVLB  ,thtr of p\n",
      "i: 30 col:  VAPIDK edc NEHCTRP\n",
      "i: 31 col: bfaM ebf ,RKMPOCEN \n",
      "i: 32 col: xid  vtxw ssi ivavs\n",
      "i: 33 col: VYDW KYHA .inyc hyy\n",
      "i: 34 col:  UTMX slotr  bppbp \n",
      "i: 35 col: e ee lfnbg pgj vpcd\n",
      "i: 36 col: psp, GPQOMDYW BEKEI\n",
      "i: 37 col: TXYR PLMXHDYR  hyy \n",
      "i: 38 col: HGW ihf ydcpv whx e\n",
      "i: 39 col: FYA  RPDKU .edvhgi \n",
      "i: 40 col: PQTRT slotr bppbp w\n",
      "i: 41 col: XO xnhj pbdefrxh pl\n",
      "i: 42 col: R  LTMDD LHTM. Jgp \n",
      "i: 43 col: twxdwx pbppb rfssrx\n",
      "i: 44 col: hii ny ipbs  wxcp x\n",
      "i: 45 col:  dddrll dm ,fqksn d\n",
      "i: 46 col: u y nsdrtwjndd, qdw\n",
      "i: 47 col: dqmdbI iss ,ciss  m\n",
      "i: 48 col: . Xwd Wshce wxs yin\n",
      "i: 49 col:  pgJ  .wbnwwtA tlf \n",
      "i: 50 col: trf su ssi Psfidclr\n",
      "i: 51 col: tmydlrab dm ompxe r\n",
      "i: 52 col: f shcpv paayj ssi i\n",
      "i: 53 col: B HNz0IPaHxHw4m]tkl\n",
      "i: 54 col: 7BuMS8H03bg?[t22Jqo\n"
     ]
    }
   ],
   "source": [
    "ciphertext1e = encrypt(text1d, verbose=True)"
   ]
  },
  {
   "cell_type": "code",
   "execution_count": 84,
   "metadata": {},
   "outputs": [
    {
     "data": {
      "text/plain": [
       "True"
      ]
     },
     "execution_count": 84,
     "metadata": {},
     "output_type": "execute_result"
    }
   ],
   "source": [
    "ciphertext1e == ciphertext1"
   ]
  },
  {
   "cell_type": "markdown",
   "metadata": {},
   "source": [
    "## Ciphertext decryption"
   ]
  },
  {
   "cell_type": "code",
   "execution_count": 85,
   "metadata": {},
   "outputs": [
    {
     "data": {
      "text/plain": [
       "\"eng6bJ'GdP:hg-tHeODHPJw)aS6Captain: Drums and trumpets sounded. Enter MARTIUS and  MUTIUS, After them, two Men bearing a coffin  covered with black, then LUCIUS and QUINTUS. After  them, TITUS ANDRONICUS, and then TAMORA, with  ALARBUS, DEMETRIUS, CHIRON, AARON, and other Goths,  prisoners, Soldiers and people following. The Bearers set down the coffin, and TITUS speaks0S$RG?BMNwNE$KDR$frrpP963JSO\""
      ]
     },
     "execution_count": 85,
     "metadata": {},
     "output_type": "execute_result"
    }
   ],
   "source": [
    "decrypt1(decrypt(ciphertext2))"
   ]
  },
  {
   "cell_type": "code",
   "execution_count": 86,
   "metadata": {},
   "outputs": [],
   "source": [
    "df_test['text'] = df_test['ciphertext'].apply(lambda x: decrypt(x)).apply(lambda x: decrypt1(x))"
   ]
  },
  {
   "cell_type": "code",
   "execution_count": 87,
   "metadata": {},
   "outputs": [],
   "source": [
    "from tqdm import tqdm_notebook"
   ]
  },
  {
   "cell_type": "code",
   "execution_count": 88,
   "metadata": {
    "scrolled": true
   },
   "outputs": [
    {
     "data": {
      "application/vnd.jupyter.widget-view+json": {
       "model_id": "639a396077994475af77be274d6ed096",
       "version_major": 2,
       "version_minor": 0
      },
      "text/plain": [
       "HBox(children=(IntProgress(value=0, max=108755), HTML(value='')))"
      ]
     },
     "metadata": {},
     "output_type": "display_data"
    },
    {
     "name": "stdout",
     "output_type": "stream",
     "text": [
      "................................................................................................................................................................................................................................................................................................................................................................................................................................................................................................................................................................................................................................................................................................................................................................................................................................................................................................................................................................................................................................................................................................................................................................................................................................................................................................................................................................................................................................................................................................................................................................................................................................................................................................................................................................................................................................................................................................................................................................................................................................................................................................................................................................................................................................................................................................................................................................................................................................................................................................................................................................................................................................................................................................................................................................................................................................................................................................................................................................................................................................................................................................................................................................................................................................................................................................................................................................................................................................................................................................................................................................................................................................................................................................................................................................................................................................................................................................................................................................................................................................................................................................................................................................................................................................................................................................................................................................................................................................................................................................................................................................................................................................................................................................................................................................................................................................................................................................................................................................................................................................................................................................................................................................................................................................................................................................................................................................................................................................................................................................................................................................................................................................................................................................................................................................................................................................................................................................................................................................................................................................................................................................................................................................................................................................................................................................................................................................................................................................................................................................................................................................................................................................................................................................................................................................................................................................................................................................................................................................................................................................................................................................................................................................................................................................................................................................................................................................................................................................................................................................................................................................................................................................................................................................................................................................................................................................................................................................................................................................................................................................................................................"
     ]
    }
   ],
   "source": [
    "df_test['train_index'] = 0\n",
    "\n",
    "for idx, train_row in tqdm_notebook(df_train.iterrows(), total=df_train.shape[0]):\n",
    "    l = len(train_row['text'])\n",
    "    text_trimmed = df_test['text'].apply(lambda x: x[(len(x)-l)//2:(len(x)-l)//2+l])\n",
    "    cond = text_trimmed == train_row['text']\n",
    "    if df_test[cond].shape[0] == 1:\n",
    "        print('.', end='')\n",
    "        df_test.loc[cond, 'train_index'] = train_row['index']"
   ]
  },
  {
   "cell_type": "code",
   "execution_count": 89,
   "metadata": {},
   "outputs": [
    {
     "data": {
      "text/html": [
       "<div>\n",
       "<style scoped>\n",
       "    .dataframe tbody tr th:only-of-type {\n",
       "        vertical-align: middle;\n",
       "    }\n",
       "\n",
       "    .dataframe tbody tr th {\n",
       "        vertical-align: top;\n",
       "    }\n",
       "\n",
       "    .dataframe thead th {\n",
       "        text-align: right;\n",
       "    }\n",
       "</style>\n",
       "<table border=\"1\" class=\"dataframe\">\n",
       "  <thead>\n",
       "    <tr style=\"text-align: right;\">\n",
       "      <th></th>\n",
       "      <th>ciphertext_id</th>\n",
       "      <th>ciphertext</th>\n",
       "      <th>difficulty</th>\n",
       "      <th>ciphertext_len</th>\n",
       "      <th>text</th>\n",
       "      <th>train_index</th>\n",
       "    </tr>\n",
       "  </thead>\n",
       "  <tbody>\n",
       "    <tr>\n",
       "      <td>6</td>\n",
       "      <td>ID_d22731a2d</td>\n",
       "      <td>1 !hek]zAxsAsD k!CN, pJlxvmQ[gpmQ'Av.m] tdI,: ...</td>\n",
       "      <td>2</td>\n",
       "      <td>100</td>\n",
       "      <td>1rBRJv['],WtLuxk81PLr)D!7NVIOLA: But, if you w...</td>\n",
       "      <td>103440</td>\n",
       "    </tr>\n",
       "    <tr>\n",
       "      <td>11</td>\n",
       "      <td>ID_b416f8259</td>\n",
       "      <td>CiHPe hT, o6JSidir)nsWJVds1id hnpeirv:AMeYUd]b...</td>\n",
       "      <td>2</td>\n",
       "      <td>100</td>\n",
       "      <td>MQ,H)RnfOyMXe'DdeLdnvSCkL!g,itD]Be now as prod...</td>\n",
       "      <td>53326</td>\n",
       "    </tr>\n",
       "    <tr>\n",
       "      <td>22</td>\n",
       "      <td>ID_54dda4dc9</td>\n",
       "      <td>:weI xdtU,q dgk,!Lzg ofbMeqBw le:L:tP$OD' -fWr...</td>\n",
       "      <td>2</td>\n",
       "      <td>100</td>\n",
       "      <td>:SVuzwhMDbsdxqX84MISTRESS QUICKLY: Why, sir, s...</td>\n",
       "      <td>65012</td>\n",
       "    </tr>\n",
       "    <tr>\n",
       "      <td>29</td>\n",
       "      <td>ID_74374d8bb</td>\n",
       "      <td>UuvaQMzgJ1nw8NzzlSqKU4ql'I0EEHn[V]? :L2xT1NB2 ...</td>\n",
       "      <td>2</td>\n",
       "      <td>100</td>\n",
       "      <td>FbXJbmS]2Wz)FzpUhoqUGxJwpn0nda.2i?I'Yz1MfNczQS...</td>\n",
       "      <td>48659</td>\n",
       "    </tr>\n",
       "    <tr>\n",
       "      <td>30</td>\n",
       "      <td>ID_5b1d67add</td>\n",
       "      <td>! MMoqc,Sdt,SEw iUIxariplki$4d neYkbhvVuxgD'pk...</td>\n",
       "      <td>2</td>\n",
       "      <td>100</td>\n",
       "      <td>!WTSEa4AK'mw)[i8!wcLpORLANDO: bequeathed me by...</td>\n",
       "      <td>15742</td>\n",
       "    </tr>\n",
       "  </tbody>\n",
       "</table>\n",
       "</div>"
      ],
      "text/plain": [
       "   ciphertext_id                                         ciphertext  \\\n",
       "6   ID_d22731a2d  1 !hek]zAxsAsD k!CN, pJlxvmQ[gpmQ'Av.m] tdI,: ...   \n",
       "11  ID_b416f8259  CiHPe hT, o6JSidir)nsWJVds1id hnpeirv:AMeYUd]b...   \n",
       "22  ID_54dda4dc9  :weI xdtU,q dgk,!Lzg ofbMeqBw le:L:tP$OD' -fWr...   \n",
       "29  ID_74374d8bb  UuvaQMzgJ1nw8NzzlSqKU4ql'I0EEHn[V]? :L2xT1NB2 ...   \n",
       "30  ID_5b1d67add  ! MMoqc,Sdt,SEw iUIxariplki$4d neYkbhvVuxgD'pk...   \n",
       "\n",
       "    difficulty  ciphertext_len  \\\n",
       "6            2             100   \n",
       "11           2             100   \n",
       "22           2             100   \n",
       "29           2             100   \n",
       "30           2             100   \n",
       "\n",
       "                                                 text  train_index  \n",
       "6   1rBRJv['],WtLuxk81PLr)D!7NVIOLA: But, if you w...       103440  \n",
       "11  MQ,H)RnfOyMXe'DdeLdnvSCkL!g,itD]Be now as prod...        53326  \n",
       "22  :SVuzwhMDbsdxqX84MISTRESS QUICKLY: Why, sir, s...        65012  \n",
       "29  FbXJbmS]2Wz)FzpUhoqUGxJwpn0nda.2i?I'Yz1MfNczQS...        48659  \n",
       "30  !WTSEa4AK'mw)[i8!wcLpORLANDO: bequeathed me by...        15742  "
      ]
     },
     "execution_count": 89,
     "metadata": {},
     "output_type": "execute_result"
    }
   ],
   "source": [
    "df_test.head()"
   ]
  },
  {
   "cell_type": "code",
   "execution_count": 90,
   "metadata": {},
   "outputs": [
    {
     "data": {
      "text/html": [
       "<div>\n",
       "<style scoped>\n",
       "    .dataframe tbody tr th:only-of-type {\n",
       "        vertical-align: middle;\n",
       "    }\n",
       "\n",
       "    .dataframe tbody tr th {\n",
       "        vertical-align: top;\n",
       "    }\n",
       "\n",
       "    .dataframe thead th {\n",
       "        text-align: right;\n",
       "    }\n",
       "</style>\n",
       "<table border=\"1\" class=\"dataframe\">\n",
       "  <thead>\n",
       "    <tr style=\"text-align: right;\">\n",
       "      <th></th>\n",
       "      <th>ciphertext_id</th>\n",
       "      <th>ciphertext</th>\n",
       "      <th>difficulty</th>\n",
       "      <th>ciphertext_len</th>\n",
       "      <th>text</th>\n",
       "      <th>train_index</th>\n",
       "    </tr>\n",
       "  </thead>\n",
       "  <tbody>\n",
       "    <tr>\n",
       "      <td>654</td>\n",
       "      <td>ID_95b1c5a35</td>\n",
       "      <td>bR38kK9nRPj,Jijvuko2Qr6mH9B''42MIAUvU.3Pmr(Lwd...</td>\n",
       "      <td>2</td>\n",
       "      <td>100</td>\n",
       "      <td>l8Swkw'B3AT:Gsi(J[sFOm[85SroeGElLF4I2xLuSYfgR9...</td>\n",
       "      <td>0</td>\n",
       "    </tr>\n",
       "    <tr>\n",
       "      <td>3718</td>\n",
       "      <td>ID_055e43710</td>\n",
       "      <td>QCtm9)NkC31Tk('y73P-J1P$C0!LY4]b,uQ,vOTKqQgv)t...</td>\n",
       "      <td>2</td>\n",
       "      <td>100</td>\n",
       "      <td>BnQ(L$JvIr3b8nAGlRS-'tXVmQsQrex)LF4X-'39M)1aX0...</td>\n",
       "      <td>0</td>\n",
       "    </tr>\n",
       "    <tr>\n",
       "      <td>5269</td>\n",
       "      <td>ID_7210f1b59</td>\n",
       "      <td>:H?guc9Sea-6DM44bwSA3:vFmi.6]smO]B:$lw6wo5L3In...</td>\n",
       "      <td>2</td>\n",
       "      <td>100</td>\n",
       "      <td>:qfBOP]C63pBVz7]Ic29-!Y4Af3b4pYJl:owB4oqRd-43w...</td>\n",
       "      <td>0</td>\n",
       "    </tr>\n",
       "    <tr>\n",
       "      <td>5606</td>\n",
       "      <td>ID_7c368bf26</td>\n",
       "      <td>eapp$9.fvMC3NjR]j]vdM1kuv6C?Bt0CN:NVvXmps,8?Pe...</td>\n",
       "      <td>2</td>\n",
       "      <td>100</td>\n",
       "      <td>oqkfgvP:i?W0j 7.cY5vtqfDUYS7yd9ElXukyCN$o9X]W6...</td>\n",
       "      <td>0</td>\n",
       "    </tr>\n",
       "    <tr>\n",
       "      <td>17375</td>\n",
       "      <td>ID_588b0f277</td>\n",
       "      <td>p$e$!yDv7b?4C4dCFMV!qbT:-xLrpjCTXHcCmRFygR,Oot...</td>\n",
       "      <td>2</td>\n",
       "      <td>100</td>\n",
       "      <td>a$74W:eDPP?6$3tKLigWOlcJQ76tWMMpnxt-!ep!$u?Mrm...</td>\n",
       "      <td>0</td>\n",
       "    </tr>\n",
       "    <tr>\n",
       "      <td>19529</td>\n",
       "      <td>ID_19ac8e5bb</td>\n",
       "      <td>UBJKkE1UrUp8b2iy5hl8FryjT4v3y9'uPdGL1EYwptGuJq...</td>\n",
       "      <td>2</td>\n",
       "      <td>100</td>\n",
       "      <td>FLg2htarUfOQRQzQ:09,xiWW'ud-PnAFhH9I8eFlPAaaT4...</td>\n",
       "      <td>0</td>\n",
       "    </tr>\n",
       "    <tr>\n",
       "      <td>38952</td>\n",
       "      <td>ID_d42b734d5</td>\n",
       "      <td>:hFpA5SU?M9yQmysmRLLweUGdQWVp(AEPdQmiO?zaY5)Tg...</td>\n",
       "      <td>2</td>\n",
       "      <td>100</td>\n",
       "      <td>:a?nACae?)T,HJ1f(TBa69O-RN7-3 mUzF(yVaBVr59tlM...</td>\n",
       "      <td>0</td>\n",
       "    </tr>\n",
       "    <tr>\n",
       "      <td>39449</td>\n",
       "      <td>ID_653a1a5b0</td>\n",
       "      <td>rHcWm4IJRouk)vBktL4vbBe IP?wn5k2hb,bThC[OBRwAS...</td>\n",
       "      <td>2</td>\n",
       "      <td>100</td>\n",
       "      <td>cXGr4 xcQsgunI]Gx-x't2(yI1B!CL:B[,5WrLpbD4flpL...</td>\n",
       "      <td>0</td>\n",
       "    </tr>\n",
       "    <tr>\n",
       "      <td>40364</td>\n",
       "      <td>ID_b2946f989</td>\n",
       "      <td>jbqSCJCiIxjoTxqT]Tx,DG(QiAA[9[N$3TmewsgtiVxfpr...</td>\n",
       "      <td>2</td>\n",
       "      <td>100</td>\n",
       "      <td>tTWtiR9Icp$h!qxEeUlMr:!AJ[MQDisqii[s,rmXlKxPNB...</td>\n",
       "      <td>0</td>\n",
       "    </tr>\n",
       "    <tr>\n",
       "      <td>41780</td>\n",
       "      <td>ID_9fb644344</td>\n",
       "      <td>2,S[dCO7Fn3l(eND1b$UPF?NKr[OXNj2nffd:OwvdJ9Hu ...</td>\n",
       "      <td>2</td>\n",
       "      <td>100</td>\n",
       "      <td>2[Pf$CTpxV$lK7EdXYUboQ)DvQ?sAzVqggCGFOcy,M3EEn...</td>\n",
       "      <td>0</td>\n",
       "    </tr>\n",
       "    <tr>\n",
       "      <td>41796</td>\n",
       "      <td>ID_11e0e02b4</td>\n",
       "      <td>ABaafbHUm!sD4usiqV?]:buG(TS0$[jpJj?EE?0]k]5 Rt...</td>\n",
       "      <td>2</td>\n",
       "      <td>100</td>\n",
       "      <td>Kbbq?Q$k0 $rvkvFb?B50o [R!w?cilN]?[(]d!gPwdj:I...</td>\n",
       "      <td>0</td>\n",
       "    </tr>\n",
       "    <tr>\n",
       "      <td>62353</td>\n",
       "      <td>ID_736837a5c</td>\n",
       "      <td>iwADzQ1jWfy-]B.mV!phy-mxWd6-jXlBTdMlag,wr,.WDd...</td>\n",
       "      <td>2</td>\n",
       "      <td>100</td>\n",
       "      <td>sELWayxy,HMVDyB$(SYn3Ye$N]'pUGcNxBTHi.tzsBabun...</td>\n",
       "      <td>0</td>\n",
       "    </tr>\n",
       "    <tr>\n",
       "      <td>63363</td>\n",
       "      <td>ID_bb03607b3</td>\n",
       "      <td>QNSYpd4Ie-4hNOiPuRndsGEFst(kLp-ix.vvN?n s:9mQ...</td>\n",
       "      <td>2</td>\n",
       "      <td>100</td>\n",
       "      <td>DJCNOlm?9.0 j8VI:r-i)7rj)ItF2 nc.HPoDaJRe-ent...</td>\n",
       "      <td>0</td>\n",
       "    </tr>\n",
       "    <tr>\n",
       "      <td>63664</td>\n",
       "      <td>ID_f4d7eefc8</td>\n",
       "      <td>pxG[n ieFhqv!mjt(,   GIoxsS9lhsuyhwe2UN jkGtp ...</td>\n",
       "      <td>2</td>\n",
       "      <td>100</td>\n",
       "      <td>a[Gb kviCp?Pr:3Up.OXJ)dngn]yTell him from me t...</td>\n",
       "      <td>0</td>\n",
       "    </tr>\n",
       "    <tr>\n",
       "      <td>65064</td>\n",
       "      <td>ID_dfb55b704</td>\n",
       "      <td>!Slm0[EqUcYn0kz)Hv]?-8!ULSQi(FBo5zUI,D0]SkR-$s...</td>\n",
       "      <td>2</td>\n",
       "      <td>100</td>\n",
       "      <td>!wVy]Q(z0-hIz?3N'C0XNyv!5t?FYEJ$]VTH?zm0T[N)-O...</td>\n",
       "      <td>0</td>\n",
       "    </tr>\n",
       "    <tr>\n",
       "      <td>86962</td>\n",
       "      <td>ID_7984e5ea9</td>\n",
       "      <td>OEB)HjnxMnhMlj]aC:bSRjgtUFhgk7pD.yzrc,krjM7zfk...</td>\n",
       "      <td>2</td>\n",
       "      <td>100</td>\n",
       "      <td>Y)NxwelngzKkeF?b(L!ybA!4kw8'VsEtnz7FT]cDOkvvCG...</td>\n",
       "      <td>0</td>\n",
       "    </tr>\n",
       "    <tr>\n",
       "      <td>87326</td>\n",
       "      <td>ID_b1e684093</td>\n",
       "      <td>06VDVh QEHG)X(zOJF GEDw6qoihHgwLN.HYsOCfw0]Ame...</td>\n",
       "      <td>2</td>\n",
       "      <td>100</td>\n",
       "      <td>0NF( 6V.XK!nNrmJm.4Uh5zKV'Ss4JeipIumQzIK6dQPSk...</td>\n",
       "      <td>0</td>\n",
       "    </tr>\n",
       "    <tr>\n",
       "      <td>90351</td>\n",
       "      <td>ID_3023d2770</td>\n",
       "      <td>x[DbNvS 1H!(OGv9PG6KHSN2JP.C(axu[D?,w1s4 yQOcx...</td>\n",
       "      <td>2</td>\n",
       "      <td>100</td>\n",
       "      <td>ic1U62(YdP?MSX6pS.jdMt)(2U0W:knx4?kKYrRO[k!9DA...</td>\n",
       "      <td>0</td>\n",
       "    </tr>\n",
       "    <tr>\n",
       "      <td>92940</td>\n",
       "      <td>ID_fb57ec5b9</td>\n",
       "      <td>80EWh)wcUu6gR yszgj75cMEVkxh6Mp6e(LI4Go5npnN,d...</td>\n",
       "      <td>2</td>\n",
       "      <td>100</td>\n",
       "      <td>8HV xA6(yOz3'3E3KWMq$vMPY.cK00W,5AIG7ajd0)6d5l...</td>\n",
       "      <td>0</td>\n",
       "    </tr>\n",
       "    <tr>\n",
       "      <td>98371</td>\n",
       "      <td>ID_7066d6603</td>\n",
       "      <td>MSLRFKLK2AWp9h[B[Jgper9L!'ptQjJ9j!cK!wVqc(3-vn...</td>\n",
       "      <td>2</td>\n",
       "      <td>100</td>\n",
       "      <td>WS2vcVR!K-j-wTYL8KFnUJuir389c(xkmmk!e[VPTYSLf'...</td>\n",
       "      <td>0</td>\n",
       "    </tr>\n",
       "    <tr>\n",
       "      <td>100386</td>\n",
       "      <td>ID_5c20a280a</td>\n",
       "      <td>m98s1eR)ynOMdxOFWOPsa6p $shitQsPPcM w-pVlH-!Yk...</td>\n",
       "      <td>2</td>\n",
       "      <td>100</td>\n",
       "      <td>wtntA uql!R7X(2fx69(o71$HkKjKWQJWBM$dPc19aYGoo...</td>\n",
       "      <td>0</td>\n",
       "    </tr>\n",
       "    <tr>\n",
       "      <td>103835</td>\n",
       "      <td>ID_2a194bda7</td>\n",
       "      <td>RmPPWx3954gVXsW9OlUmkmgR:n I-9Qlo00ov]FO mD.tk...</td>\n",
       "      <td>2</td>\n",
       "      <td>100</td>\n",
       "      <td>CQ5hQC-0G.CEpix?EJh:D1qDPHm 93MuD09:iH4Xbtq9lc...</td>\n",
       "      <td>0</td>\n",
       "    </tr>\n",
       "    <tr>\n",
       "      <td>107948</td>\n",
       "      <td>ID_d67e80aa1</td>\n",
       "      <td>7tk0,d:tSFC(y.xNt,:VsgnnIcyM11hNN!Iy?EdEk]E N ...</td>\n",
       "      <td>2</td>\n",
       "      <td>100</td>\n",
       "      <td>70D.:o1!r l1UXF1N?.mm[j?DoS4F9dXFW1EGyT,pnDCom...</td>\n",
       "      <td>0</td>\n",
       "    </tr>\n",
       "  </tbody>\n",
       "</table>\n",
       "</div>"
      ],
      "text/plain": [
       "       ciphertext_id                                         ciphertext  \\\n",
       "654     ID_95b1c5a35  bR38kK9nRPj,Jijvuko2Qr6mH9B''42MIAUvU.3Pmr(Lwd...   \n",
       "3718    ID_055e43710  QCtm9)NkC31Tk('y73P-J1P$C0!LY4]b,uQ,vOTKqQgv)t...   \n",
       "5269    ID_7210f1b59  :H?guc9Sea-6DM44bwSA3:vFmi.6]smO]B:$lw6wo5L3In...   \n",
       "5606    ID_7c368bf26  eapp$9.fvMC3NjR]j]vdM1kuv6C?Bt0CN:NVvXmps,8?Pe...   \n",
       "17375   ID_588b0f277  p$e$!yDv7b?4C4dCFMV!qbT:-xLrpjCTXHcCmRFygR,Oot...   \n",
       "19529   ID_19ac8e5bb  UBJKkE1UrUp8b2iy5hl8FryjT4v3y9'uPdGL1EYwptGuJq...   \n",
       "38952   ID_d42b734d5  :hFpA5SU?M9yQmysmRLLweUGdQWVp(AEPdQmiO?zaY5)Tg...   \n",
       "39449   ID_653a1a5b0  rHcWm4IJRouk)vBktL4vbBe IP?wn5k2hb,bThC[OBRwAS...   \n",
       "40364   ID_b2946f989  jbqSCJCiIxjoTxqT]Tx,DG(QiAA[9[N$3TmewsgtiVxfpr...   \n",
       "41780   ID_9fb644344  2,S[dCO7Fn3l(eND1b$UPF?NKr[OXNj2nffd:OwvdJ9Hu ...   \n",
       "41796   ID_11e0e02b4  ABaafbHUm!sD4usiqV?]:buG(TS0$[jpJj?EE?0]k]5 Rt...   \n",
       "62353   ID_736837a5c  iwADzQ1jWfy-]B.mV!phy-mxWd6-jXlBTdMlag,wr,.WDd...   \n",
       "63363   ID_bb03607b3   QNSYpd4Ie-4hNOiPuRndsGEFst(kLp-ix.vvN?n s:9mQ...   \n",
       "63664   ID_f4d7eefc8  pxG[n ieFhqv!mjt(,   GIoxsS9lhsuyhwe2UN jkGtp ...   \n",
       "65064   ID_dfb55b704  !Slm0[EqUcYn0kz)Hv]?-8!ULSQi(FBo5zUI,D0]SkR-$s...   \n",
       "86962   ID_7984e5ea9  OEB)HjnxMnhMlj]aC:bSRjgtUFhgk7pD.yzrc,krjM7zfk...   \n",
       "87326   ID_b1e684093  06VDVh QEHG)X(zOJF GEDw6qoihHgwLN.HYsOCfw0]Ame...   \n",
       "90351   ID_3023d2770  x[DbNvS 1H!(OGv9PG6KHSN2JP.C(axu[D?,w1s4 yQOcx...   \n",
       "92940   ID_fb57ec5b9  80EWh)wcUu6gR yszgj75cMEVkxh6Mp6e(LI4Go5npnN,d...   \n",
       "98371   ID_7066d6603  MSLRFKLK2AWp9h[B[Jgper9L!'ptQjJ9j!cK!wVqc(3-vn...   \n",
       "100386  ID_5c20a280a  m98s1eR)ynOMdxOFWOPsa6p $shitQsPPcM w-pVlH-!Yk...   \n",
       "103835  ID_2a194bda7  RmPPWx3954gVXsW9OlUmkmgR:n I-9Qlo00ov]FO mD.tk...   \n",
       "107948  ID_d67e80aa1  7tk0,d:tSFC(y.xNt,:VsgnnIcyM11hNN!Iy?EdEk]E N ...   \n",
       "\n",
       "        difficulty  ciphertext_len  \\\n",
       "654              2             100   \n",
       "3718             2             100   \n",
       "5269             2             100   \n",
       "5606             2             100   \n",
       "17375            2             100   \n",
       "19529            2             100   \n",
       "38952            2             100   \n",
       "39449            2             100   \n",
       "40364            2             100   \n",
       "41780            2             100   \n",
       "41796            2             100   \n",
       "62353            2             100   \n",
       "63363            2             100   \n",
       "63664            2             100   \n",
       "65064            2             100   \n",
       "86962            2             100   \n",
       "87326            2             100   \n",
       "90351            2             100   \n",
       "92940            2             100   \n",
       "98371            2             100   \n",
       "100386           2             100   \n",
       "103835           2             100   \n",
       "107948           2             100   \n",
       "\n",
       "                                                     text  train_index  \n",
       "654     l8Swkw'B3AT:Gsi(J[sFOm[85SroeGElLF4I2xLuSYfgR9...            0  \n",
       "3718    BnQ(L$JvIr3b8nAGlRS-'tXVmQsQrex)LF4X-'39M)1aX0...            0  \n",
       "5269    :qfBOP]C63pBVz7]Ic29-!Y4Af3b4pYJl:owB4oqRd-43w...            0  \n",
       "5606    oqkfgvP:i?W0j 7.cY5vtqfDUYS7yd9ElXukyCN$o9X]W6...            0  \n",
       "17375   a$74W:eDPP?6$3tKLigWOlcJQ76tWMMpnxt-!ep!$u?Mrm...            0  \n",
       "19529   FLg2htarUfOQRQzQ:09,xiWW'ud-PnAFhH9I8eFlPAaaT4...            0  \n",
       "38952   :a?nACae?)T,HJ1f(TBa69O-RN7-3 mUzF(yVaBVr59tlM...            0  \n",
       "39449   cXGr4 xcQsgunI]Gx-x't2(yI1B!CL:B[,5WrLpbD4flpL...            0  \n",
       "40364   tTWtiR9Icp$h!qxEeUlMr:!AJ[MQDisqii[s,rmXlKxPNB...            0  \n",
       "41780   2[Pf$CTpxV$lK7EdXYUboQ)DvQ?sAzVqggCGFOcy,M3EEn...            0  \n",
       "41796   Kbbq?Q$k0 $rvkvFb?B50o [R!w?cilN]?[(]d!gPwdj:I...            0  \n",
       "62353   sELWayxy,HMVDyB$(SYn3Ye$N]'pUGcNxBTHi.tzsBabun...            0  \n",
       "63363    DJCNOlm?9.0 j8VI:r-i)7rj)ItF2 nc.HPoDaJRe-ent...            0  \n",
       "63664   a[Gb kviCp?Pr:3Up.OXJ)dngn]yTell him from me t...            0  \n",
       "65064   !wVy]Q(z0-hIz?3N'C0XNyv!5t?FYEJ$]VTH?zm0T[N)-O...            0  \n",
       "86962   Y)NxwelngzKkeF?b(L!ybA!4kw8'VsEtnz7FT]cDOkvvCG...            0  \n",
       "87326   0NF( 6V.XK!nNrmJm.4Uh5zKV'Ss4JeipIumQzIK6dQPSk...            0  \n",
       "90351   ic1U62(YdP?MSX6pS.jdMt)(2U0W:knx4?kKYrRO[k!9DA...            0  \n",
       "92940   8HV xA6(yOz3'3E3KWMq$vMPY.cK00W,5AIG7ajd0)6d5l...            0  \n",
       "98371   WS2vcVR!K-j-wTYL8KFnUJuir389c(xkmmk!e[VPTYSLf'...            0  \n",
       "100386  wtntA uql!R7X(2fx69(o71$HkKjKWQJWBM$dPc19aYGoo...            0  \n",
       "103835  CQ5hQC-0G.CEpix?EJh:D1qDPHm 93MuD09:iH4Xbtq9lc...            0  \n",
       "107948  70D.:o1!r l1UXF1N?.mm[j?DoS4F9dXFW1EGyT,pnDCom...            0  "
      ]
     },
     "execution_count": 90,
     "metadata": {},
     "output_type": "execute_result"
    }
   ],
   "source": [
    "df_test[df_test['train_index'] == 0]"
   ]
  },
  {
   "cell_type": "markdown",
   "metadata": {},
   "source": [
    "There is some undetected ciphertexts (maybe some bugs in code :), but major part is detected correctly."
   ]
  },
  {
   "cell_type": "markdown",
   "metadata": {},
   "source": [
    "## Results output"
   ]
  },
  {
   "cell_type": "code",
   "execution_count": 91,
   "metadata": {},
   "outputs": [],
   "source": [
    "df_test.rename(columns={'train_index':'index'}, inplace=True)"
   ]
  },
  {
   "cell_type": "code",
   "execution_count": 92,
   "metadata": {},
   "outputs": [],
   "source": [
    "df_subm = pd.read_csv('../input/ciphertext-challenge-iii/test.csv', usecols=['ciphertext_id'])"
   ]
  },
  {
   "cell_type": "code",
   "execution_count": 93,
   "metadata": {},
   "outputs": [],
   "source": [
    "df_subm = df_subm[['ciphertext_id']].merge(df_test[['ciphertext_id', 'index']], how='left',\n",
    "                                           left_on='ciphertext_id', right_on='ciphertext_id')\n",
    "df_subm = df_subm.fillna(0)\n",
    "df_subm['index'] = df_subm['index'].astype(np.int32)"
   ]
  },
  {
   "cell_type": "code",
   "execution_count": 94,
   "metadata": {},
   "outputs": [
    {
     "data": {
      "text/html": [
       "<div>\n",
       "<style scoped>\n",
       "    .dataframe tbody tr th:only-of-type {\n",
       "        vertical-align: middle;\n",
       "    }\n",
       "\n",
       "    .dataframe tbody tr th {\n",
       "        vertical-align: top;\n",
       "    }\n",
       "\n",
       "    .dataframe thead th {\n",
       "        text-align: right;\n",
       "    }\n",
       "</style>\n",
       "<table border=\"1\" class=\"dataframe\">\n",
       "  <thead>\n",
       "    <tr style=\"text-align: right;\">\n",
       "      <th></th>\n",
       "      <th>ciphertext_id</th>\n",
       "      <th>index</th>\n",
       "    </tr>\n",
       "  </thead>\n",
       "  <tbody>\n",
       "    <tr>\n",
       "      <td>0</td>\n",
       "      <td>ID_4a6fc1ea9</td>\n",
       "      <td>0</td>\n",
       "    </tr>\n",
       "    <tr>\n",
       "      <td>1</td>\n",
       "      <td>ID_9460d3380</td>\n",
       "      <td>0</td>\n",
       "    </tr>\n",
       "    <tr>\n",
       "      <td>2</td>\n",
       "      <td>ID_ac39fd360</td>\n",
       "      <td>0</td>\n",
       "    </tr>\n",
       "    <tr>\n",
       "      <td>3</td>\n",
       "      <td>ID_d089e3234</td>\n",
       "      <td>0</td>\n",
       "    </tr>\n",
       "    <tr>\n",
       "      <td>4</td>\n",
       "      <td>ID_55f57ffd0</td>\n",
       "      <td>0</td>\n",
       "    </tr>\n",
       "    <tr>\n",
       "      <td>5</td>\n",
       "      <td>ID_c85d54d74</td>\n",
       "      <td>0</td>\n",
       "    </tr>\n",
       "    <tr>\n",
       "      <td>6</td>\n",
       "      <td>ID_d22731a2d</td>\n",
       "      <td>103440</td>\n",
       "    </tr>\n",
       "    <tr>\n",
       "      <td>7</td>\n",
       "      <td>ID_a1f8defe3</td>\n",
       "      <td>0</td>\n",
       "    </tr>\n",
       "    <tr>\n",
       "      <td>8</td>\n",
       "      <td>ID_df952a0c2</td>\n",
       "      <td>0</td>\n",
       "    </tr>\n",
       "    <tr>\n",
       "      <td>9</td>\n",
       "      <td>ID_5888bd70c</td>\n",
       "      <td>0</td>\n",
       "    </tr>\n",
       "  </tbody>\n",
       "</table>\n",
       "</div>"
      ],
      "text/plain": [
       "  ciphertext_id   index\n",
       "0  ID_4a6fc1ea9       0\n",
       "1  ID_9460d3380       0\n",
       "2  ID_ac39fd360       0\n",
       "3  ID_d089e3234       0\n",
       "4  ID_55f57ffd0       0\n",
       "5  ID_c85d54d74       0\n",
       "6  ID_d22731a2d  103440\n",
       "7  ID_a1f8defe3       0\n",
       "8  ID_df952a0c2       0\n",
       "9  ID_5888bd70c       0"
      ]
     },
     "execution_count": 94,
     "metadata": {},
     "output_type": "execute_result"
    }
   ],
   "source": [
    "df_subm.head(10)"
   ]
  },
  {
   "cell_type": "code",
   "execution_count": 95,
   "metadata": {},
   "outputs": [],
   "source": [
    "df_subm.to_csv('diff2.csv', index=None)"
   ]
  }
 ],
 "metadata": {
  "kernelspec": {
   "display_name": "Python 3",
   "language": "python",
   "name": "python3"
  },
  "language_info": {
   "codemirror_mode": {
    "name": "ipython",
    "version": 3
   },
   "file_extension": ".py",
   "mimetype": "text/x-python",
   "name": "python",
   "nbconvert_exporter": "python",
   "pygments_lexer": "ipython3",
   "version": "3.6.6"
  },
  "widgets": {
   "application/vnd.jupyter.widget-state+json": {
    "state": {
     "07b6eba62a93404581baae577efafa10": {
      "model_module": "@jupyter-widgets/base",
      "model_module_version": "1.2.0",
      "model_name": "LayoutModel",
      "state": {
       "_model_module": "@jupyter-widgets/base",
       "_model_module_version": "1.2.0",
       "_model_name": "LayoutModel",
       "_view_count": null,
       "_view_module": "@jupyter-widgets/base",
       "_view_module_version": "1.2.0",
       "_view_name": "LayoutView",
       "align_content": null,
       "align_items": null,
       "align_self": null,
       "border": null,
       "bottom": null,
       "display": null,
       "flex": null,
       "flex_flow": null,
       "grid_area": null,
       "grid_auto_columns": null,
       "grid_auto_flow": null,
       "grid_auto_rows": null,
       "grid_column": null,
       "grid_gap": null,
       "grid_row": null,
       "grid_template_areas": null,
       "grid_template_columns": null,
       "grid_template_rows": null,
       "height": null,
       "justify_content": null,
       "justify_items": null,
       "left": null,
       "margin": null,
       "max_height": null,
       "max_width": null,
       "min_height": null,
       "min_width": null,
       "object_fit": null,
       "object_position": null,
       "order": null,
       "overflow": null,
       "overflow_x": null,
       "overflow_y": null,
       "padding": null,
       "right": null,
       "top": null,
       "visibility": null,
       "width": null
      }
     },
     "1f1afa775dd2499a9ab51b90a78d01f8": {
      "model_module": "@jupyter-widgets/controls",
      "model_module_version": "1.5.0",
      "model_name": "HTMLModel",
      "state": {
       "_dom_classes": [],
       "_model_module": "@jupyter-widgets/controls",
       "_model_module_version": "1.5.0",
       "_model_name": "HTMLModel",
       "_view_count": null,
       "_view_module": "@jupyter-widgets/controls",
       "_view_module_version": "1.5.0",
       "_view_name": "HTMLView",
       "description": "",
       "description_tooltip": null,
       "layout": "IPY_MODEL_efc4f46ec496400a8e7cf4a21f667947",
       "placeholder": "​",
       "style": "IPY_MODEL_2309715536d848c0b10fe1a8e754d3a0",
       "value": " 108755/108755 [41:53&lt;00:00, 43.27it/s]"
      }
     },
     "2309715536d848c0b10fe1a8e754d3a0": {
      "model_module": "@jupyter-widgets/controls",
      "model_module_version": "1.5.0",
      "model_name": "DescriptionStyleModel",
      "state": {
       "_model_module": "@jupyter-widgets/controls",
       "_model_module_version": "1.5.0",
       "_model_name": "DescriptionStyleModel",
       "_view_count": null,
       "_view_module": "@jupyter-widgets/base",
       "_view_module_version": "1.2.0",
       "_view_name": "StyleView",
       "description_width": ""
      }
     },
     "28bf4d77846e484a8e34a1acc6f3ce96": {
      "model_module": "@jupyter-widgets/controls",
      "model_module_version": "1.5.0",
      "model_name": "IntProgressModel",
      "state": {
       "_dom_classes": [],
       "_model_module": "@jupyter-widgets/controls",
       "_model_module_version": "1.5.0",
       "_model_name": "IntProgressModel",
       "_view_count": null,
       "_view_module": "@jupyter-widgets/controls",
       "_view_module_version": "1.5.0",
       "_view_name": "ProgressView",
       "bar_style": "",
       "description": " 87%",
       "description_tooltip": null,
       "layout": "IPY_MODEL_07b6eba62a93404581baae577efafa10",
       "max": 108755,
       "min": 0,
       "orientation": "horizontal",
       "style": "IPY_MODEL_3e9b9cbd79294b2ca547559c233f787d",
       "value": 94874
      }
     },
     "3e9b9cbd79294b2ca547559c233f787d": {
      "model_module": "@jupyter-widgets/controls",
      "model_module_version": "1.5.0",
      "model_name": "ProgressStyleModel",
      "state": {
       "_model_module": "@jupyter-widgets/controls",
       "_model_module_version": "1.5.0",
       "_model_name": "ProgressStyleModel",
       "_view_count": null,
       "_view_module": "@jupyter-widgets/base",
       "_view_module_version": "1.2.0",
       "_view_name": "StyleView",
       "bar_color": null,
       "description_width": "initial"
      }
     },
     "639a396077994475af77be274d6ed096": {
      "model_module": "@jupyter-widgets/controls",
      "model_module_version": "1.5.0",
      "model_name": "HBoxModel",
      "state": {
       "_dom_classes": [],
       "_model_module": "@jupyter-widgets/controls",
       "_model_module_version": "1.5.0",
       "_model_name": "HBoxModel",
       "_view_count": null,
       "_view_module": "@jupyter-widgets/controls",
       "_view_module_version": "1.5.0",
       "_view_name": "HBoxView",
       "box_style": "",
       "children": [
        "IPY_MODEL_28bf4d77846e484a8e34a1acc6f3ce96",
        "IPY_MODEL_1f1afa775dd2499a9ab51b90a78d01f8"
       ],
       "layout": "IPY_MODEL_b3f4086cd15f4ca7b44afc64e7bcb60e"
      }
     },
     "b3f4086cd15f4ca7b44afc64e7bcb60e": {
      "model_module": "@jupyter-widgets/base",
      "model_module_version": "1.2.0",
      "model_name": "LayoutModel",
      "state": {
       "_model_module": "@jupyter-widgets/base",
       "_model_module_version": "1.2.0",
       "_model_name": "LayoutModel",
       "_view_count": null,
       "_view_module": "@jupyter-widgets/base",
       "_view_module_version": "1.2.0",
       "_view_name": "LayoutView",
       "align_content": null,
       "align_items": null,
       "align_self": null,
       "border": null,
       "bottom": null,
       "display": null,
       "flex": null,
       "flex_flow": null,
       "grid_area": null,
       "grid_auto_columns": null,
       "grid_auto_flow": null,
       "grid_auto_rows": null,
       "grid_column": null,
       "grid_gap": null,
       "grid_row": null,
       "grid_template_areas": null,
       "grid_template_columns": null,
       "grid_template_rows": null,
       "height": null,
       "justify_content": null,
       "justify_items": null,
       "left": null,
       "margin": null,
       "max_height": null,
       "max_width": null,
       "min_height": null,
       "min_width": null,
       "object_fit": null,
       "object_position": null,
       "order": null,
       "overflow": null,
       "overflow_x": null,
       "overflow_y": null,
       "padding": null,
       "right": null,
       "top": null,
       "visibility": null,
       "width": null
      }
     },
     "efc4f46ec496400a8e7cf4a21f667947": {
      "model_module": "@jupyter-widgets/base",
      "model_module_version": "1.2.0",
      "model_name": "LayoutModel",
      "state": {
       "_model_module": "@jupyter-widgets/base",
       "_model_module_version": "1.2.0",
       "_model_name": "LayoutModel",
       "_view_count": null,
       "_view_module": "@jupyter-widgets/base",
       "_view_module_version": "1.2.0",
       "_view_name": "LayoutView",
       "align_content": null,
       "align_items": null,
       "align_self": null,
       "border": null,
       "bottom": null,
       "display": null,
       "flex": null,
       "flex_flow": null,
       "grid_area": null,
       "grid_auto_columns": null,
       "grid_auto_flow": null,
       "grid_auto_rows": null,
       "grid_column": null,
       "grid_gap": null,
       "grid_row": null,
       "grid_template_areas": null,
       "grid_template_columns": null,
       "grid_template_rows": null,
       "height": null,
       "justify_content": null,
       "justify_items": null,
       "left": null,
       "margin": null,
       "max_height": null,
       "max_width": null,
       "min_height": null,
       "min_width": null,
       "object_fit": null,
       "object_position": null,
       "order": null,
       "overflow": null,
       "overflow_x": null,
       "overflow_y": null,
       "padding": null,
       "right": null,
       "top": null,
       "visibility": null,
       "width": null
      }
     }
    },
    "version_major": 2,
    "version_minor": 0
   }
  }
 },
 "nbformat": 4,
 "nbformat_minor": 1
}
